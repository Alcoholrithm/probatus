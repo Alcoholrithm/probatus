{
 "cells": [
  {
   "cell_type": "markdown",
   "metadata": {},
   "source": [
    "# Volatility Estimation"
   ]
  },
  {
   "cell_type": "markdown",
   "metadata": {},
   "source": [
    "The goal of Volatility Estimation is understanding how certain we can be regarding metrics achieved while estimating model performance. The feature allows to perform sensitivity analysis on the selected model.\n",
    "\n",
    "The following features are currently available in Probatus\n",
    "- TrainTestVolatility - Estimation of volatility of metrics. The estimation is done by splitting the data into train and test multiple times and training and scoring a model based on these metrics.\n",
    "   - SplitSeedVolatility - Estimates volatility of metrics based on splitting the data into train and test sets multiple times randomly, each time with different train/test splits at each iteration. The randomization of splits is done using varying seed.\n",
    "   - BootstrappedVolatility - Estimates volatility of metrics based on splitting the data into train and test with static seed, and bootstrapping train and test set.\n",
    "\n",
    "### Setup\n",
    "Setup reusable across submodules"
   ]
  },
  {
   "cell_type": "code",
   "execution_count": 12,
   "metadata": {},
   "outputs": [],
   "source": [
    "from probatus.metric_volatility import TrainTestVolatility, SplitSeedVolatility, BootstrappedVolatility\n",
    "from sklearn.datasets import make_classification\n",
    "from sklearn.ensemble import RandomForestClassifier\n",
    "\n",
    "X, y = make_classification(n_samples=1000, n_features=4)\n",
    "clf = RandomForestClassifier(n_estimators = 10, max_depth=2, random_state=0)"
   ]
  },
  {
   "cell_type": "markdown",
   "metadata": {},
   "source": [
    "### TrainTestVolatility\n",
    "Estimation of volatility of metrics. The estimation is done by splitting the data into train and test multiple times and training and scoring a model based on these metrics. This is a useful feature to understand how splitting the data into train and test sets influences the results stability\n",
    "\n",
    "Below is a basic functionality:"
   ]
  },
  {
   "cell_type": "code",
   "execution_count": 13,
   "metadata": {
    "scrolled": true
   },
   "outputs": [
    {
     "data": {
      "text/html": [
       "<div>\n",
       "<style scoped>\n",
       "    .dataframe tbody tr th:only-of-type {\n",
       "        vertical-align: middle;\n",
       "    }\n",
       "\n",
       "    .dataframe tbody tr th {\n",
       "        vertical-align: top;\n",
       "    }\n",
       "\n",
       "    .dataframe thead th {\n",
       "        text-align: right;\n",
       "    }\n",
       "</style>\n",
       "<table border=\"1\" class=\"dataframe\">\n",
       "  <thead>\n",
       "    <tr style=\"text-align: right;\">\n",
       "      <th></th>\n",
       "      <th>train_mean</th>\n",
       "      <th>train_std</th>\n",
       "      <th>test_mean</th>\n",
       "      <th>test_std</th>\n",
       "      <th>delta_mean</th>\n",
       "      <th>delta_std</th>\n",
       "    </tr>\n",
       "  </thead>\n",
       "  <tbody>\n",
       "    <tr>\n",
       "      <th>auc</th>\n",
       "      <td>0.946874</td>\n",
       "      <td>0.007303</td>\n",
       "      <td>0.939387</td>\n",
       "      <td>0.016173</td>\n",
       "      <td>0.007487</td>\n",
       "      <td>0.017989</td>\n",
       "    </tr>\n",
       "  </tbody>\n",
       "</table>\n",
       "</div>"
      ],
      "text/plain": [
       "     train_mean  train_std  test_mean  test_std  delta_mean  delta_std\n",
       "auc    0.946874   0.007303   0.939387  0.016173    0.007487   0.017989"
      ]
     },
     "execution_count": 13,
     "metadata": {},
     "output_type": "execute_result"
    }
   ],
   "source": [
    "# Basic functionality \n",
    "volatility = TrainTestVolatility(clf)\n",
    "volatility.fit_compute(X, y)"
   ]
  },
  {
   "cell_type": "markdown",
   "metadata": {},
   "source": [
    "The output of the compute() and fit_compute() method presents the table, with mean and std for train, test and delta (train - test) for each metric. \n",
    "\n",
    "One can also present the distributions of train, test and deltas for each metric. The plots allows for a sensitivity analysis of the "
   ]
  },
  {
   "cell_type": "code",
   "execution_count": 14,
   "metadata": {},
   "outputs": [
    {
     "data": {
      "image/png": "[encoded data removed]",
      "text/plain": [
       "<Figure size 720x360 with 2 Axes>"
      ]
     },
     "metadata": {
      "needs_background": "light"
     },
     "output_type": "display_data"
    }
   ],
   "source": [
    "volatility.plot()"
   ]
  },
  {
   "cell_type": "markdown",
   "metadata": {},
   "source": [
    "This is a parent class, which provides a lot of flexibility in making experiment. The functionality of this class is very wide, please refer to the API reference for details. \n",
    "\n",
    "In order to simplify use of the methodology, two convenience classes have been created:"
   ]
  },
  {
   "cell_type": "markdown",
   "metadata": {},
   "source": [
    "### SplitSeedVolatility \n",
    "\n",
    "Estimates volatility of metrics based on splitting the data into train and test sets multiple times randomly, each time with different train/test splits at each iteration. It does not apply any subsampling to the data."
   ]
  },
  {
   "cell_type": "code",
   "execution_count": 17,
   "metadata": {},
   "outputs": [
    {
     "data": {
      "text/html": [
       "<div>\n",
       "<style scoped>\n",
       "    .dataframe tbody tr th:only-of-type {\n",
       "        vertical-align: middle;\n",
       "    }\n",
       "\n",
       "    .dataframe tbody tr th {\n",
       "        vertical-align: top;\n",
       "    }\n",
       "\n",
       "    .dataframe thead th {\n",
       "        text-align: right;\n",
       "    }\n",
       "</style>\n",
       "<table border=\"1\" class=\"dataframe\">\n",
       "  <thead>\n",
       "    <tr style=\"text-align: right;\">\n",
       "      <th></th>\n",
       "      <th>train_mean</th>\n",
       "      <th>train_std</th>\n",
       "      <th>test_mean</th>\n",
       "      <th>test_std</th>\n",
       "      <th>delta_mean</th>\n",
       "      <th>delta_std</th>\n",
       "    </tr>\n",
       "  </thead>\n",
       "  <tbody>\n",
       "    <tr>\n",
       "      <th>auc</th>\n",
       "      <td>0.951976</td>\n",
       "      <td>0.008691</td>\n",
       "      <td>0.940054</td>\n",
       "      <td>0.011289</td>\n",
       "      <td>0.011922</td>\n",
       "      <td>0.014287</td>\n",
       "    </tr>\n",
       "  </tbody>\n",
       "</table>\n",
       "</div>"
      ],
      "text/plain": [
       "     train_mean  train_std  test_mean  test_std  delta_mean  delta_std\n",
       "auc    0.951976   0.008691   0.940054  0.011289    0.011922   0.014287"
      ]
     },
     "execution_count": 17,
     "metadata": {},
     "output_type": "execute_result"
    }
   ],
   "source": [
    "volatility = SplitSeedVolatility(clf, iterations=500 , test_prc = 0.5)\n",
    "volatility.fit_compute(X, y)"
   ]
  },
  {
   "cell_type": "markdown",
   "metadata": {},
   "source": [
    "### BootstrappedVolatility\n",
    "\n",
    "Estimates volatility of metrics based on splitting the data into train and test with static seed, and bootstrapping train and test set."
   ]
  },
  {
   "cell_type": "code",
   "execution_count": 21,
   "metadata": {},
   "outputs": [
    {
     "data": {
      "text/html": [
       "<div>\n",
       "<style scoped>\n",
       "    .dataframe tbody tr th:only-of-type {\n",
       "        vertical-align: middle;\n",
       "    }\n",
       "\n",
       "    .dataframe tbody tr th {\n",
       "        vertical-align: top;\n",
       "    }\n",
       "\n",
       "    .dataframe thead th {\n",
       "        text-align: right;\n",
       "    }\n",
       "</style>\n",
       "<table border=\"1\" class=\"dataframe\">\n",
       "  <thead>\n",
       "    <tr style=\"text-align: right;\">\n",
       "      <th></th>\n",
       "      <th>train_mean</th>\n",
       "      <th>train_std</th>\n",
       "      <th>test_mean</th>\n",
       "      <th>test_std</th>\n",
       "      <th>delta_mean</th>\n",
       "      <th>delta_std</th>\n",
       "    </tr>\n",
       "  </thead>\n",
       "  <tbody>\n",
       "    <tr>\n",
       "      <th>accuracy</th>\n",
       "      <td>0.906652</td>\n",
       "      <td>0.013169</td>\n",
       "      <td>0.894912</td>\n",
       "      <td>0.023875</td>\n",
       "      <td>0.011740</td>\n",
       "      <td>0.024337</td>\n",
       "    </tr>\n",
       "    <tr>\n",
       "      <th>auc</th>\n",
       "      <td>0.957506</td>\n",
       "      <td>0.007809</td>\n",
       "      <td>0.934210</td>\n",
       "      <td>0.018209</td>\n",
       "      <td>0.023296</td>\n",
       "      <td>0.017591</td>\n",
       "    </tr>\n",
       "  </tbody>\n",
       "</table>\n",
       "</div>"
      ],
      "text/plain": [
       "          train_mean  train_std  test_mean  test_std  delta_mean  delta_std\n",
       "accuracy    0.906652   0.013169   0.894912  0.023875    0.011740   0.024337\n",
       "auc         0.957506   0.007809   0.934210  0.018209    0.023296   0.017591"
      ]
     },
     "execution_count": 21,
     "metadata": {},
     "output_type": "execute_result"
    }
   ],
   "source": [
    "volatility = BootstrappedVolatility(clf, metrics=['accuracy', 'auc'])\n",
    "volatility.fit_compute(X, y)"
   ]
  }
 ],
 "metadata": {
  "kernelspec": {
   "display_name": "Python 3",
   "language": "python",
   "name": "python3"
  },
  "language_info": {
   "codemirror_mode": {
    "name": "ipython",
    "version": 3
   },
   "file_extension": ".py",
   "mimetype": "text/x-python",
   "name": "python",
   "nbconvert_exporter": "python",
   "pygments_lexer": "ipython3",
   "version": "3.7.4"
  }
 },
 "nbformat": 4,
 "nbformat_minor": 2
}
