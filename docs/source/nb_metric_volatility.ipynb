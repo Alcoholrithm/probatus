{
 "cells": [
  {
   "cell_type": "markdown",
   "metadata": {},
   "source": [
    "# Metric Volatility Estimation\n",
    "\n",
    "Measure the volatility of a given metric e.g. AUC for a given model and dataset.\n",
    "\n",
    "There are two main features implemented in this module\n",
    "- Volatility Estimation - estimates volatility of target metrics by applying a given methodology. \n",
    "- Volatility Parameter Tuning - allows to set parameters in an experiment e.g. train set size, based on the volatility of metrics\n",
    "\n",
    "The following sections describe these features."
   ]
  },
  {
   "cell_type": "markdown",
   "metadata": {},
   "source": [
    "## Volatility Estimation\n",
    "\n",
    "This section describes different volatility estimation methodology\n",
    "\n",
    "<img src=\"schemas/VolatilityEstimation.png\" width=\"800\">"
   ]
  },
  {
   "cell_type": "markdown",
   "metadata": {},
   "source": [
    "The following features are implemented:\n",
    "- BaseVolatilityEstimator - Base class, provides main functionality with fit method that can be overwritten by subclasses\n",
    "   - TrainTestVolatility - Estimation of volatility of metrics. The estimation is done by splitting the data into train and test multiple times and training and scoring a model based on these metrics.\n",
    "       - SplitSeedVolatility - Estimates volatility of metrics based on splitting the data into train and test sets multiple times randomly, each time with different seed.\n",
    "       - BootstrappedVolatility - stimates volatility of metrics based on splitting the data into train and test with static seed, and bootstrapping train and test set.\n",
    "   - FoldVolatility - Splits data into train and test set. Then the train test is further split into n folds and the volatility of model trained on each fold separately is estimated on the test set.\n",
    "   - DelongAUCVolatility - Volatility estimation of AUC based on [DeLong's algorithm](https://www.researchgate.net/profile/Weichao_Xu/publication/264007033_Fast_Implementation_of_DeLong%27s_Algorithm_for_Comparing_the_Areas_Under_Correlated_Receiver_Operating_Characteristic_Curves/links/584a55f508ae5038263d93c0/Fast-Implementation-of-DeLongs-Algorithm-for-Comparing-the-Areas-Under-Correlated-Receiver-Operating-Characteristic-Curves.pdf).\n",
    "   - CVVolatility - Estimation of volatility metrics based on repeated Cross-Validation\n",
    "       "
   ]
  },
  {
   "cell_type": "markdown",
   "metadata": {},
   "source": [
    "### Setup\n",
    "Setup reusable across submodules"
   ]
  },
  {
   "cell_type": "code",
   "execution_count": 1,
   "metadata": {},
   "outputs": [],
   "source": [
    "from probatus.metric_volatility import TrainTestVolatility, SplitSeedVolatility, BootstrappedVolatility\n",
    "from sklearn.datasets import make_classification\n",
    "from sklearn.ensemble import RandomForestClassifier\n",
    "\n",
    "import warnings\n",
    "warnings.simplefilter(action='ignore')\n",
    "\n",
    "X, y = make_classification(n_samples=1000, n_features=4)\n",
    "clf = RandomForestClassifier(n_estimators = 10, max_depth=2, random_state=0)"
   ]
  },
  {
   "cell_type": "markdown",
   "metadata": {},
   "source": [
    "### TrainTestVolatility\n",
    "This is a parent class, which provides a lot of flexibility in making experiment. The user can modify whether the split should be the same at each iteration, whether train and test data should be subsampled and multiple other parameters. By default at every iteration it uses a different train test split.\n",
    "\n",
    "The functionality of this class is very wide, please refer to the API reference for details\n",
    "\n",
    "Below is a basic functionality:"
   ]
  },
  {
   "cell_type": "code",
   "execution_count": 2,
   "metadata": {
    "scrolled": true
   },
   "outputs": [
    {
     "data": {
      "application/vnd.jupyter.widget-view+json": {
       "model_id": "1418674e47e44217906112138eee6f70",
       "version_major": 2,
       "version_minor": 0
      },
      "text/plain": [
       "HBox(children=(FloatProgress(value=0.0, max=1000.0), HTML(value='')))"
      ]
     },
     "metadata": {},
     "output_type": "display_data"
    },
    {
     "name": "stdout",
     "output_type": "stream",
     "text": [
      "\n"
     ]
    },
    {
     "data": {
      "text/html": [
       "<div>\n",
       "<style scoped>\n",
       "    .dataframe tbody tr th:only-of-type {\n",
       "        vertical-align: middle;\n",
       "    }\n",
       "\n",
       "    .dataframe tbody tr th {\n",
       "        vertical-align: top;\n",
       "    }\n",
       "\n",
       "    .dataframe thead th {\n",
       "        text-align: right;\n",
       "    }\n",
       "</style>\n",
       "<table border=\"1\" class=\"dataframe\">\n",
       "  <thead>\n",
       "    <tr style=\"text-align: right;\">\n",
       "      <th></th>\n",
       "      <th>train_mean</th>\n",
       "      <th>train_std</th>\n",
       "      <th>test_mean</th>\n",
       "      <th>test_std</th>\n",
       "      <th>delta_mean</th>\n",
       "      <th>delta_std</th>\n",
       "      <th>Kolmogorov-Smirnov statistic</th>\n",
       "      <th>Kolmogorov-Smirnov p-value</th>\n",
       "    </tr>\n",
       "  </thead>\n",
       "  <tbody>\n",
       "    <tr>\n",
       "      <th>auc</th>\n",
       "      <td>0.963401</td>\n",
       "      <td>0.003499</td>\n",
       "      <td>0.955866</td>\n",
       "      <td>0.010825</td>\n",
       "      <td>0.007535</td>\n",
       "      <td>0.013049</td>\n",
       "      <td>0.7</td>\n",
       "      <td>0.012341</td>\n",
       "    </tr>\n",
       "  </tbody>\n",
       "</table>\n",
       "</div>"
      ],
      "text/plain": [
       "     train_mean  train_std  test_mean  test_std  delta_mean  delta_std  \\\n",
       "auc    0.963401   0.003499   0.955866  0.010825    0.007535   0.013049   \n",
       "\n",
       "     Kolmogorov-Smirnov statistic  Kolmogorov-Smirnov p-value  \n",
       "auc                           0.7                    0.012341  "
      ]
     },
     "execution_count": 2,
     "metadata": {},
     "output_type": "execute_result"
    }
   ],
   "source": [
    "# Basic functionality \n",
    "volatility = TrainTestVolatility(clf)\n",
    "volatility.fit_compute(X, y)"
   ]
  },
  {
   "cell_type": "markdown",
   "metadata": {},
   "source": [
    "The output of the compute() and fit_compute() method presents the table, with mean and std for train, test and delta (train - test) for each metric. Next to this, the results of the applied statistical tests comparing train and test results distributions are show."
   ]
  },
  {
   "cell_type": "code",
   "execution_count": 3,
   "metadata": {},
   "outputs": [
    {
     "data": {
      "image/png": "[encoded data removed]",
      "text/plain": [
       "<Figure size 720x360 with 2 Axes>"
      ]
     },
     "metadata": {
      "needs_background": "light"
     },
     "output_type": "display_data"
    }
   ],
   "source": [
    "volatility.plot()"
   ]
  },
  {
   "cell_type": "markdown",
   "metadata": {},
   "source": [
    "The plots present the distributions of train, test and deltas"
   ]
  },
  {
   "cell_type": "markdown",
   "metadata": {},
   "source": [
    "### SplitSeedVolatility and BootstrappedVolatility\n",
    "\n",
    "These two sublasses are simply convenience classes with preset parameters for the most frequent use cases.\n",
    "\n",
    "Example use:\n",
    "```python\n",
    "# Volatility of metric based on train test split seed\n",
    "volatility = SplitSeedVolatility(clf, iterations=500 , test_prc = 0.5)\n",
    "volatility.fit_compute(X, y)\n",
    "```\n",
    "or\n",
    "```python\n",
    "# Volatility of metric based on train test split seed\n",
    "volatility = BootstrappedVolatility(clf, train_sampling_fraction=0.8)\n",
    "volatility.fit_compute(X, y)\n",
    "```"
   ]
  },
  {
   "cell_type": "markdown",
   "metadata": {},
   "source": [
    "## Volatility Parameter Tuning\n",
    "\n",
    "This section describes different volatility parameter tuning methodology\n",
    "\n",
    "<img src=\"schemas/VolatilityParameterTuning.png\" width=\"800\">"
   ]
  },
  {
   "cell_type": "markdown",
   "metadata": {},
   "source": [
    "The following features are implemented:\n",
    "\n",
    "- BaseVolatilityEstimator - Base class, provides main functionality with fit method that can be overwritten by subclasses\n",
    "    - TestPercentageTuner - Analayses volatility across different levels of train test splits ratios. Allows to select train test split size.\n",
    "    - TrainSizeTuner - Analayses volatility when the train set size is subsampled. Allows to understand relation between train size and results.\n",
    "    - TestSizeTuner - Analayses volatility when the test set size is subsampled. Allows to understand relation between test size and results.\n",
    "    - FoldNumberTuner - Analayses volatility of metric when a different number of folds is used. Allows to understand relation between number of folds and the results.\n",
    "    \n",
    "These methods will be implemented in future releases of probatus"
   ]
  }
 ],
 "metadata": {
  "kernelspec": {
   "display_name": "Python 3",
   "language": "python",
   "name": "python3"
  },
  "language_info": {
   "codemirror_mode": {
    "name": "ipython",
    "version": 3
   },
   "file_extension": ".py",
   "mimetype": "text/x-python",
   "name": "python",
   "nbconvert_exporter": "python",
   "pygments_lexer": "ipython3",
   "version": "3.7.4"
  }
 },
 "nbformat": 4,
 "nbformat_minor": 2
}
