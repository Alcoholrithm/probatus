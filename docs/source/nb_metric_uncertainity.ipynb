{
 "cells": [
  {
   "cell_type": "markdown",
   "metadata": {},
   "source": [
    "# Metric Volatility Estimation\n",
    "\n",
    "Measure the volatility of a given metric e.g. AUC for a given model and dataset.\n",
    "\n",
    "There are two main features implemented in this module\n",
    "- Volatility Estimation - estimates volatility of target metrics by applying a given methodology. \n",
    "- Volatility Parameter Tuning - allows to set parameters in an experiment e.g. train set size, based on the volatility of metrics\n",
    "\n",
    "The following sections describe these features."
   ]
  },
  {
   "cell_type": "markdown",
   "metadata": {},
   "source": [
    "## Volatility Estimation\n",
    "\n",
    "This section describes different volatility estimation methodology\n",
    "\n",
    "<img src=\"schemas/VolatilityEstimation.png\" width=\"800\">"
   ]
  },
  {
   "cell_type": "markdown",
   "metadata": {},
   "source": [
    "The following features are implemented:\n",
    "- BaseVolatilityEstimator - Base class, provides main functionality with fit method that can be overwritten by subclasses\n",
    "   - TrainTestVolatility - Estimation of volatility of metrics. The estimation is done by splitting the data into train and test multiple times and training and scoring a model based on these metrics.\n",
    "       - SplitSeedVolatility - Estimates volatility of metrics based on splitting the data into train and test sets multiple times randomly, each time with different seed.\n",
    "       - BootstrappedVolatility - stimates volatility of metrics based on splitting the data into train and test with static seed, and bootstrapping train and test set.\n",
    "   - FoldVolatility - Splits data into train and test set. Then the train test is further split into n folds and the volatility of model trained on each fold separately is estimated on the test set.\n",
    "   - DelongAUCVolatility - Volatility estimation of AUC based on [DeLong's algorithm](https://www.researchgate.net/profile/Weichao_Xu/publication/264007033_Fast_Implementation_of_DeLong%27s_Algorithm_for_Comparing_the_Areas_Under_Correlated_Receiver_Operating_Characteristic_Curves/links/584a55f508ae5038263d93c0/Fast-Implementation-of-DeLongs-Algorithm-for-Comparing-the-Areas-Under-Correlated-Receiver-Operating-Characteristic-Curves.pdf).\n",
    "   - CVVolatility - Estimation of volatility metrics based on repeated Cross-Validation\n",
    "       "
   ]
  },
  {
   "cell_type": "code",
   "execution_count": 8,
   "metadata": {},
   "outputs": [
    {
     "ename": "AttributeError",
     "evalue": "module 'probatus' has no attribute 'metric_volatility'",
     "output_type": "error",
     "traceback": [
      "\u001b[0;31m---------------------------------------------------------------------------\u001b[0m",
      "\u001b[0;31mAttributeError\u001b[0m                            Traceback (most recent call last)",
      "\u001b[0;32m<ipython-input-8-74b6d5683ef1>\u001b[0m in \u001b[0;36m<module>\u001b[0;34m\u001b[0m\n\u001b[1;32m      1\u001b[0m \u001b[0;32mimport\u001b[0m \u001b[0mprobatus\u001b[0m\u001b[0;34m\u001b[0m\u001b[0;34m\u001b[0m\u001b[0m\n\u001b[0;32m----> 2\u001b[0;31m \u001b[0mdir\u001b[0m\u001b[0;34m(\u001b[0m\u001b[0mprobatus\u001b[0m\u001b[0;34m.\u001b[0m\u001b[0mmetric_volatility\u001b[0m\u001b[0;34m)\u001b[0m\u001b[0;34m\u001b[0m\u001b[0;34m\u001b[0m\u001b[0m\n\u001b[0m",
      "\u001b[0;31mAttributeError\u001b[0m: module 'probatus' has no attribute 'metric_volatility'"
     ]
    }
   ],
   "source": [
    "import probatus\n",
    "dir(probatus.metric_volatility)"
   ]
  },
  {
   "cell_type": "code",
   "execution_count": 9,
   "metadata": {},
   "outputs": [
    {
     "ename": "ModuleNotFoundError",
     "evalue": "No module named 'probatus.metric_volatility'",
     "output_type": "error",
     "traceback": [
      "\u001b[0;31m---------------------------------------------------------------------------\u001b[0m",
      "\u001b[0;31mModuleNotFoundError\u001b[0m                       Traceback (most recent call last)",
      "\u001b[0;32m<ipython-input-9-4edfb1a4f497>\u001b[0m in \u001b[0;36m<module>\u001b[0;34m\u001b[0m\n\u001b[0;32m----> 1\u001b[0;31m \u001b[0;32mfrom\u001b[0m \u001b[0mprobatus\u001b[0m\u001b[0;34m.\u001b[0m\u001b[0mmetric_volatility\u001b[0m \u001b[0;32mimport\u001b[0m \u001b[0mSplitSeedVolatility\u001b[0m\u001b[0;34m\u001b[0m\u001b[0;34m\u001b[0m\u001b[0m\n\u001b[0m\u001b[1;32m      2\u001b[0m \u001b[0;34m\u001b[0m\u001b[0m\n\u001b[1;32m      3\u001b[0m \u001b[0;32mimport\u001b[0m \u001b[0mwarnings\u001b[0m\u001b[0;34m\u001b[0m\u001b[0;34m\u001b[0m\u001b[0m\n\u001b[1;32m      4\u001b[0m \u001b[0mwarnings\u001b[0m\u001b[0;34m.\u001b[0m\u001b[0msimplefilter\u001b[0m\u001b[0;34m(\u001b[0m\u001b[0maction\u001b[0m\u001b[0;34m=\u001b[0m\u001b[0;34m'ignore'\u001b[0m\u001b[0;34m)\u001b[0m\u001b[0;34m\u001b[0m\u001b[0;34m\u001b[0m\u001b[0m\n",
      "\u001b[0;31mModuleNotFoundError\u001b[0m: No module named 'probatus.metric_volatility'"
     ]
    }
   ],
   "source": []
  },
  {
   "cell_type": "markdown",
   "metadata": {},
   "source": [
    "Loading test data from lending club"
   ]
  },
  {
   "cell_type": "code",
   "execution_count": 7,
   "metadata": {},
   "outputs": [],
   "source": [
    "# loading a dummy model\n",
    "model = lending_club_model()\n",
    "\n",
    "# loading original data\n",
    "data = lending_club(modelling_mode = False)[0]\n",
    "y = data[['default']]\n",
    "X = data.drop(['id', 'loan_issue_date','default'], axis = 1)\n",
    "\n",
    "# defining the metrics we are interested in\n",
    "evaluators =  {'AUC' : [roc_auc_score,'proba']}"
   ]
  },
  {
   "cell_type": "markdown",
   "metadata": {},
   "source": [
    "First fitting the localised bootstrap replicates with overlap"
   ]
  },
  {
   "cell_type": "code",
   "execution_count": 8,
   "metadata": {},
   "outputs": [],
   "source": [
    "# declaring the evaluation class\n",
    "checker = VolatilityEstimation(model, X, y, evaluators, 'boot_seed')\n",
    "\n",
    "# running 1000 random samples with 40% of data assigned to test partition\n",
    "checker.estimate(0.4,1000)"
   ]
  },
  {
   "cell_type": "code",
   "execution_count": 9,
   "metadata": {},
   "outputs": [
    {
     "name": "stdout",
     "output_type": "stream",
     "text": [
      "Mean of metric on train is 0.92\n",
      "Mean of metric on test is 0.71\n",
      "Mean of delta is 0.21\n",
      "Standard Deviation of metric on train is 0.00939\n",
      "Standard Deviation of metric on test is 0.01942\n",
      "Standard Deviation of delta is 0.02284\n"
     ]
    }
   ],
   "source": [
    "checker.reporting('AUC')"
   ]
  },
  {
   "cell_type": "code",
   "execution_count": 10,
   "metadata": {},
   "outputs": [
    {
     "data": {
      "image/png": "[encoded data removed]",
      "text/plain": [
       "<Figure size 432x288 with 1 Axes>"
      ]
     },
     "metadata": {
      "needs_background": "light"
     },
     "output_type": "display_data"
    },
    {
     "data": {
      "image/png": "[encoded data removed]",
      "text/plain": [
       "<Figure size 432x288 with 1 Axes>"
      ]
     },
     "metadata": {
      "needs_background": "light"
     },
     "output_type": "display_data"
    }
   ],
   "source": [
    "checker.plot('AUC')"
   ]
  },
  {
   "cell_type": "markdown",
   "metadata": {},
   "source": [
    "Running the estimation with global bootrap non overlapping k folds. \n",
    "\n",
    "The number of max folds is determined by the nature of the data: what is the maximum number of folds to ensure there is balanced number of classed in each fold."
   ]
  },
  {
   "cell_type": "code",
   "execution_count": 11,
   "metadata": {},
   "outputs": [],
   "source": [
    "# declaring the evaluation class\n",
    "checker = VolatilityEstimation(model, X, y, evaluators, 'boot_global')\n",
    "\n",
    "# running 1000 random samples with 40% of data assigned to test partition\n",
    "checker.estimate(0.1)"
   ]
  },
  {
   "cell_type": "code",
   "execution_count": 12,
   "metadata": {},
   "outputs": [
    {
     "name": "stdout",
     "output_type": "stream",
     "text": [
      "Mean of metric on train is 0.97\n",
      "Mean of metric on test is 0.66\n",
      "Mean of delta is 0.31\n",
      "Standard Deviation of metric on train is 3e-05\n",
      "Standard Deviation of metric on test is 0.00301\n",
      "Standard Deviation of delta is 0.00283\n"
     ]
    }
   ],
   "source": [
    "checker.reporting('AUC')"
   ]
  },
  {
   "cell_type": "code",
   "execution_count": 13,
   "metadata": {},
   "outputs": [
    {
     "data": {
      "image/png": "[encoded data removed]",
      "text/plain": [
       "<Figure size 432x288 with 1 Axes>"
      ]
     },
     "metadata": {
      "needs_background": "light"
     },
     "output_type": "display_data"
    },
    {
     "data": {
      "image/png": "[encoded data removed]",
      "text/plain": [
       "<Figure size 432x288 with 1 Axes>"
      ]
     },
     "metadata": {
      "needs_background": "light"
     },
     "output_type": "display_data"
    }
   ],
   "source": [
    "checker.plot('AUC')"
   ]
  },
  {
   "cell_type": "code",
   "execution_count": 14,
   "metadata": {},
   "outputs": [],
   "source": [
    "# declaring the evaluation class\n",
    "checker = VolatilityEstimation(model, X, y, evaluators, 'delong')\n",
    "\n",
    "checker.estimate(0.4)"
   ]
  },
  {
   "cell_type": "code",
   "execution_count": 15,
   "metadata": {},
   "outputs": [
    {
     "name": "stdout",
     "output_type": "stream",
     "text": [
      "Mean of metric on train is 0.91\n",
      "Mean of metric on test is 0.69\n",
      "Mean of delta is 0.22\n",
      "Standard Deviation of metric on train is 0.00018\n",
      "Standard Deviation of metric on test is 0.00067\n",
      "Standard Deviation of delta is 0.0\n"
     ]
    }
   ],
   "source": [
    "checker.reporting('AUC')"
   ]
  },
  {
   "cell_type": "code",
   "execution_count": 16,
   "metadata": {},
   "outputs": [
    {
     "data": {
      "image/png": "[encoded data removed]",
      "text/plain": [
       "<Figure size 432x288 with 1 Axes>"
      ]
     },
     "metadata": {
      "needs_background": "light"
     },
     "output_type": "display_data"
    },
    {
     "data": {
      "image/png": "[encoded data removed]",
      "text/plain": [
       "<Figure size 432x288 with 1 Axes>"
      ]
     },
     "metadata": {
      "needs_background": "light"
     },
     "output_type": "display_data"
    }
   ],
   "source": [
    "checker.plot('AUC')"
   ]
  }
 ],
 "metadata": {
  "kernelspec": {
   "display_name": "Python 3",
   "language": "python",
   "name": "python3"
  },
  "language_info": {
   "codemirror_mode": {
    "name": "ipython",
    "version": 3
   },
   "file_extension": ".py",
   "mimetype": "text/x-python",
   "name": "python",
   "nbconvert_exporter": "python",
   "pygments_lexer": "ipython3",
   "version": "3.7.4"
  }
 },
 "nbformat": 4,
 "nbformat_minor": 2
}
