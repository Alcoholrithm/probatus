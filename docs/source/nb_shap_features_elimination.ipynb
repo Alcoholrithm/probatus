{
 "cells": [
  {
   "cell_type": "markdown",
   "metadata": {},
   "source": [
    "# Backwards Features Elimination using SHAP and CV\n",
    "\n",
    "Backwards Features Elimination allows to efficiently reduce the number of features in your dataset, without losing the predictive power of the model. `Probatus` implements the following features elimination routine for **tree-based models**:\n",
    "\n",
    "```\n",
    "While any features left, iterate:\n",
    "    1. Optimize hyperparameters and fit a model for a given features set. \n",
    "        You can either use GridSearchCV of RandomSearchCV from sklearn.\n",
    "    2. Remove n lowest SHAP importance features\n",
    "```\n",
    "\n",
    "The main advantages of using this routine are:\n",
    "- High computation speed compared to recursive algorithms.\n",
    "- Uses SHAP importance, which is one of the most reliable ways to estimate features importance. Unlike many other techniques, it works with missing values and categorical variables.\n",
    "- Uses Cross-validation to optimize hyperparameters for each features set. This way you can assess if removal of a given feature reduces the predictive power, or simply requires additional tuning of the model.\n",
    "\n",
    "The disadvantages are:\n",
    "- One needs to manually select how many features to keep at the end of the routine, based on how the performance of the model changes between rounds.\n",
    "- Removing lowest SHAP importance feature does not always translate to choosing the feature with lowest impact on model's performance.\n",
    "- The current implementation works with tree-based models only, due to much lower speed of SHAP importance computation for other types of models.\n",
    "\n",
    "## Setup the dataset\n",
    "\n",
    "In order to use the functionality, let's set up an example dataset with:\n",
    "- numerical features\n",
    "- 1 categorical feature\n",
    "- 1 static feature\n",
    "- 1 feature with missing values\n",
    "\n",
    "`Probatus` can handle such dataset if you use an appropriate binary model that handles the above issues in the data e.g. LightGBM."
   ]
  },
  {
   "cell_type": "code",
   "execution_count": 1,
   "metadata": {},
   "outputs": [],
   "source": [
    "from probatus.features_elimination import ShapBFE\n",
    "from sklearn.datasets import make_classification\n",
    "from sklearn.model_selection import train_test_split\n",
    "import numpy as np\n",
    "import pandas as pd\n",
    "import lightgbm\n",
    " \n",
    "feature_names = ['f1_categorical', 'f2_missing', 'f3_static', 'f4', 'f5', 'f6', 'f7', 'f8', 'f9', 'f10', 'f11', 'f12', 'f13', 'f14', 'f15', 'f16', 'f17', 'f18', 'f19', 'f20']\n",
    " \n",
    "# Prepare two samples\n",
    "X, y = make_classification(n_samples=1000, class_sep=0.05, n_informative=6, n_features=20,\n",
    "                           random_state=0, n_redundant=10, n_clusters_per_class=1)\n",
    "X = pd.DataFrame(X, columns=feature_names)\n",
    "X['f1_categorical'] = X['f1_categorical'].apply(lambda x: str(np.round(x*10)))\n",
    "X['f2_missing'] = X['f2_missing'].apply(lambda x: x if np.random.rand()<0.8 else np.nan)\n",
    "X['f3_static'] = 0"
   ]
  },
  {
   "cell_type": "code",
   "execution_count": 2,
   "metadata": {},
   "outputs": [
    {
     "data": {
      "text/html": [
       "<div>\n",
       "<style scoped>\n",
       "    .dataframe tbody tr th:only-of-type {\n",
       "        vertical-align: middle;\n",
       "    }\n",
       "\n",
       "    .dataframe tbody tr th {\n",
       "        vertical-align: top;\n",
       "    }\n",
       "\n",
       "    .dataframe thead th {\n",
       "        text-align: right;\n",
       "    }\n",
       "</style>\n",
       "<table border=\"1\" class=\"dataframe\">\n",
       "  <thead>\n",
       "    <tr style=\"text-align: right;\">\n",
       "      <th></th>\n",
       "      <th>f1_categorical</th>\n",
       "      <th>f2_missing</th>\n",
       "      <th>f3_static</th>\n",
       "      <th>f4</th>\n",
       "      <th>f5</th>\n",
       "      <th>f6</th>\n",
       "      <th>f7</th>\n",
       "      <th>f8</th>\n",
       "      <th>f9</th>\n",
       "      <th>f10</th>\n",
       "      <th>f11</th>\n",
       "      <th>f12</th>\n",
       "      <th>f13</th>\n",
       "      <th>f14</th>\n",
       "      <th>f15</th>\n",
       "      <th>f16</th>\n",
       "      <th>f17</th>\n",
       "      <th>f18</th>\n",
       "      <th>f19</th>\n",
       "      <th>f20</th>\n",
       "    </tr>\n",
       "  </thead>\n",
       "  <tbody>\n",
       "    <tr>\n",
       "      <th>0</th>\n",
       "      <td>34.0</td>\n",
       "      <td>-3.902230</td>\n",
       "      <td>0</td>\n",
       "      <td>0.037207</td>\n",
       "      <td>-0.211075</td>\n",
       "      <td>2.378358</td>\n",
       "      <td>0.474059</td>\n",
       "      <td>-0.580471</td>\n",
       "      <td>2.523367</td>\n",
       "      <td>1.265063</td>\n",
       "      <td>-0.698129</td>\n",
       "      <td>0.320310</td>\n",
       "      <td>0.373186</td>\n",
       "      <td>1.828942</td>\n",
       "      <td>-3.116881</td>\n",
       "      <td>-0.960251</td>\n",
       "      <td>-0.031511</td>\n",
       "      <td>-1.294803</td>\n",
       "      <td>0.115819</td>\n",
       "      <td>-2.727467</td>\n",
       "    </tr>\n",
       "    <tr>\n",
       "      <th>1</th>\n",
       "      <td>-25.0</td>\n",
       "      <td>0.772855</td>\n",
       "      <td>0</td>\n",
       "      <td>0.302824</td>\n",
       "      <td>0.729950</td>\n",
       "      <td>0.815054</td>\n",
       "      <td>1.157228</td>\n",
       "      <td>1.347449</td>\n",
       "      <td>-1.880812</td>\n",
       "      <td>0.222902</td>\n",
       "      <td>2.293246</td>\n",
       "      <td>0.286349</td>\n",
       "      <td>0.063909</td>\n",
       "      <td>0.036967</td>\n",
       "      <td>-1.016085</td>\n",
       "      <td>0.035576</td>\n",
       "      <td>-0.439491</td>\n",
       "      <td>0.823261</td>\n",
       "      <td>2.284586</td>\n",
       "      <td>0.674484</td>\n",
       "    </tr>\n",
       "    <tr>\n",
       "      <th>2</th>\n",
       "      <td>-7.0</td>\n",
       "      <td>1.350847</td>\n",
       "      <td>0</td>\n",
       "      <td>1.837895</td>\n",
       "      <td>-0.745689</td>\n",
       "      <td>0.327826</td>\n",
       "      <td>0.755258</td>\n",
       "      <td>1.499059</td>\n",
       "      <td>-1.987181</td>\n",
       "      <td>0.093551</td>\n",
       "      <td>0.734911</td>\n",
       "      <td>0.579087</td>\n",
       "      <td>0.216668</td>\n",
       "      <td>-1.523017</td>\n",
       "      <td>-1.940202</td>\n",
       "      <td>0.763642</td>\n",
       "      <td>-0.764415</td>\n",
       "      <td>1.879374</td>\n",
       "      <td>1.239255</td>\n",
       "      <td>0.767797</td>\n",
       "    </tr>\n",
       "    <tr>\n",
       "      <th>3</th>\n",
       "      <td>-53.0</td>\n",
       "      <td>4.559465</td>\n",
       "      <td>0</td>\n",
       "      <td>-1.277930</td>\n",
       "      <td>3.688404</td>\n",
       "      <td>-2.369522</td>\n",
       "      <td>0.927847</td>\n",
       "      <td>-0.155483</td>\n",
       "      <td>-2.434361</td>\n",
       "      <td>0.448693</td>\n",
       "      <td>2.021587</td>\n",
       "      <td>-0.609161</td>\n",
       "      <td>-1.699683</td>\n",
       "      <td>-2.938755</td>\n",
       "      <td>1.995516</td>\n",
       "      <td>-2.558037</td>\n",
       "      <td>-1.103081</td>\n",
       "      <td>3.084860</td>\n",
       "      <td>6.632615</td>\n",
       "      <td>0.754824</td>\n",
       "    </tr>\n",
       "    <tr>\n",
       "      <th>4</th>\n",
       "      <td>-10.0</td>\n",
       "      <td>1.505766</td>\n",
       "      <td>0</td>\n",
       "      <td>-0.576209</td>\n",
       "      <td>-0.790525</td>\n",
       "      <td>-0.585126</td>\n",
       "      <td>-0.499129</td>\n",
       "      <td>1.324540</td>\n",
       "      <td>-0.077793</td>\n",
       "      <td>0.352424</td>\n",
       "      <td>-1.728604</td>\n",
       "      <td>0.987153</td>\n",
       "      <td>-0.754924</td>\n",
       "      <td>0.257670</td>\n",
       "      <td>1.381853</td>\n",
       "      <td>1.751669</td>\n",
       "      <td>-1.043428</td>\n",
       "      <td>-0.848575</td>\n",
       "      <td>-3.581535</td>\n",
       "      <td>2.810744</td>\n",
       "    </tr>\n",
       "  </tbody>\n",
       "</table>\n",
       "</div>"
      ],
      "text/plain": [
       "  f1_categorical  f2_missing  f3_static        f4        f5        f6  \\\n",
       "0           34.0   -3.902230          0  0.037207 -0.211075  2.378358   \n",
       "1          -25.0    0.772855          0  0.302824  0.729950  0.815054   \n",
       "2           -7.0    1.350847          0  1.837895 -0.745689  0.327826   \n",
       "3          -53.0    4.559465          0 -1.277930  3.688404 -2.369522   \n",
       "4          -10.0    1.505766          0 -0.576209 -0.790525 -0.585126   \n",
       "\n",
       "         f7        f8        f9       f10       f11       f12       f13  \\\n",
       "0  0.474059 -0.580471  2.523367  1.265063 -0.698129  0.320310  0.373186   \n",
       "1  1.157228  1.347449 -1.880812  0.222902  2.293246  0.286349  0.063909   \n",
       "2  0.755258  1.499059 -1.987181  0.093551  0.734911  0.579087  0.216668   \n",
       "3  0.927847 -0.155483 -2.434361  0.448693  2.021587 -0.609161 -1.699683   \n",
       "4 -0.499129  1.324540 -0.077793  0.352424 -1.728604  0.987153 -0.754924   \n",
       "\n",
       "        f14       f15       f16       f17       f18       f19       f20  \n",
       "0  1.828942 -3.116881 -0.960251 -0.031511 -1.294803  0.115819 -2.727467  \n",
       "1  0.036967 -1.016085  0.035576 -0.439491  0.823261  2.284586  0.674484  \n",
       "2 -1.523017 -1.940202  0.763642 -0.764415  1.879374  1.239255  0.767797  \n",
       "3 -2.938755  1.995516 -2.558037 -1.103081  3.084860  6.632615  0.754824  \n",
       "4  0.257670  1.381853  1.751669 -1.043428 -0.848575 -3.581535  2.810744  "
      ]
     },
     "execution_count": 2,
     "metadata": {},
     "output_type": "execute_result"
    }
   ],
   "source": [
    "X.head()"
   ]
  },
  {
   "cell_type": "code",
   "execution_count": 3,
   "metadata": {},
   "outputs": [
    {
     "data": {
      "text/plain": [
       "f1_categorical     object\n",
       "f2_missing        float64\n",
       "f3_static           int64\n",
       "f4                float64\n",
       "f5                float64\n",
       "dtype: object"
      ]
     },
     "execution_count": 3,
     "metadata": {},
     "output_type": "execute_result"
    }
   ],
   "source": [
    "X.dtypes.head()"
   ]
  },
  {
   "cell_type": "markdown",
   "metadata": {},
   "source": [
    "## Set up the model and it's optimization space\n",
    "\n",
    "You need to set up the model and it's hyperparameter optimization space/grid for the Backwards Features Elimination. `Probatus` requires a **tree-based binary classifier** in order to speed up the computation of SHAP feature importance at each step. \n",
    "\n",
    "We recommend using LGBMClassifier, which by default handles missing values and categorical features."
   ]
  },
  {
   "cell_type": "code",
   "execution_count": 4,
   "metadata": {
    "scrolled": false
   },
   "outputs": [],
   "source": [
    "clf = lightgbm.LGBMClassifier(max_depth=5, class_weight='balanced')\n",
    "\n",
    "param_grid = {\n",
    "    'n_estimators': [5, 7, 10],\n",
    "    'num_leaves': [3, 5, 7],\n",
    "}"
   ]
  },
  {
   "cell_type": "markdown",
   "metadata": {},
   "source": [
    "## Apply ShapBFE\n",
    "\n",
    "The ShapBFE class in `probatus` implements the Backwards Features Elimination, in which, at each step the Cross-Validation based hyperparameter optimization is performed, and the lowest SHAP importance features are removed."
   ]
  },
  {
   "cell_type": "code",
   "execution_count": 5,
   "metadata": {},
   "outputs": [
    {
     "name": "stderr",
     "output_type": "stream",
     "text": [
      "Removing static features ['f3_static'].\n",
      "The following variables contain missing values ['f2_missing']. Make sure to imputemissing or apply a model that handles them automatically.\n",
      "Changing dtype of ['f1_categorical'] from \"object\" to \"category\". Treating it as categorical variable. Make sure that the model handles categorical variables, or encode them first.\n"
     ]
    },
    {
     "name": "stdout",
     "output_type": "stream",
     "text": [
      "Round: 1, Current number of features: 19, Current performance: Train 0.942 +/- 0.008, CV Validation 0.887 +/- 0.033. \n",
      "Removed features at the end of the round: ['f7', 'f6', 'f17', 'f4'], Num of features left: 15.\n",
      "Round: 2, Current number of features: 15, Current performance: Train 0.942 +/- 0.008, CV Validation 0.886 +/- 0.032. \n",
      "Removed features at the end of the round: ['f13', 'f10', 'f2_missing'], Num of features left: 12.\n",
      "Round: 3, Current number of features: 12, Current performance: Train 0.942 +/- 0.008, CV Validation 0.884 +/- 0.04. \n",
      "Removed features at the end of the round: ['f12', 'f20', 'f18'], Num of features left: 9.\n",
      "Round: 4, Current number of features: 9, Current performance: Train 0.938 +/- 0.006, CV Validation 0.884 +/- 0.042. \n",
      "Removed features at the end of the round: ['f8', 'f11'], Num of features left: 7.\n",
      "Round: 5, Current number of features: 7, Current performance: Train 0.929 +/- 0.005, CV Validation 0.875 +/- 0.043. \n",
      "Removed features at the end of the round: ['f14', 'f5'], Num of features left: 5.\n",
      "Round: 6, Current number of features: 5, Current performance: Train 0.917 +/- 0.007, CV Validation 0.865 +/- 0.044. \n",
      "Removed features at the end of the round: ['f15'], Num of features left: 4.\n",
      "Round: 7, Current number of features: 4, Current performance: Train 0.9 +/- 0.005, CV Validation 0.854 +/- 0.045. \n",
      "Removed features at the end of the round: ['f1_categorical'], Num of features left: 3.\n",
      "Round: 8, Current number of features: 3, Current performance: Train 0.889 +/- 0.006, CV Validation 0.86 +/- 0.038. \n",
      "Removed features at the end of the round: ['f9'], Num of features left: 2.\n",
      "Round: 9, Current number of features: 2, Current performance: Train 0.848 +/- 0.005, CV Validation 0.811 +/- 0.042. \n",
      "Removed features at the end of the round: ['f19'], Num of features left: 1.\n",
      "Round: 10, Current number of features: 1, Current performance: Train 0.746 +/- 0.004, CV Validation 0.723 +/- 0.05. \n",
      "Removed features at the end of the round: ['f16'], Num of features left: 0.\n"
     ]
    }
   ],
   "source": [
    "shap_elimination = ShapBFE(\n",
    "    clf=clf, search_space=param_grid, search_schema='grid', \n",
    "    n_removed_per_iter=0.2, cv=20, scoring='roc_auc', n_jobs=3)\n",
    "report = shap_elimination.fit_compute(X, y)"
   ]
  },
  {
   "cell_type": "markdown",
   "metadata": {},
   "source": [
    "At the end of the process, you can investigate the results for each iteration."
   ]
  },
  {
   "cell_type": "code",
   "execution_count": 6,
   "metadata": {},
   "outputs": [
    {
     "data": {
      "text/html": [
       "<div>\n",
       "<style scoped>\n",
       "    .dataframe tbody tr th:only-of-type {\n",
       "        vertical-align: middle;\n",
       "    }\n",
       "\n",
       "    .dataframe tbody tr th {\n",
       "        vertical-align: top;\n",
       "    }\n",
       "\n",
       "    .dataframe thead th {\n",
       "        text-align: right;\n",
       "    }\n",
       "</style>\n",
       "<table border=\"1\" class=\"dataframe\">\n",
       "  <thead>\n",
       "    <tr style=\"text-align: right;\">\n",
       "      <th></th>\n",
       "      <th>num_features</th>\n",
       "      <th>features_set</th>\n",
       "      <th>eliminated_features</th>\n",
       "      <th>train_metric_mean</th>\n",
       "      <th>train_metric_std</th>\n",
       "      <th>val_metric_mean</th>\n",
       "      <th>val_metric_std</th>\n",
       "      <th>param_n_estimators</th>\n",
       "      <th>param_num_leaves</th>\n",
       "    </tr>\n",
       "  </thead>\n",
       "  <tbody>\n",
       "    <tr>\n",
       "      <th>1</th>\n",
       "      <td>19</td>\n",
       "      <td>[f1_categorical, f2_missing, f4, f5, f6, f7, f...</td>\n",
       "      <td>[f7, f6, f17, f4]</td>\n",
       "      <td>0.942</td>\n",
       "      <td>0.008</td>\n",
       "      <td>0.887</td>\n",
       "      <td>0.033</td>\n",
       "      <td>10</td>\n",
       "      <td>7</td>\n",
       "    </tr>\n",
       "    <tr>\n",
       "      <th>2</th>\n",
       "      <td>15</td>\n",
       "      <td>[f5, f13, f16, f9, f10, f18, f11, f19, f12, f1...</td>\n",
       "      <td>[f13, f10, f2_missing]</td>\n",
       "      <td>0.942</td>\n",
       "      <td>0.008</td>\n",
       "      <td>0.886</td>\n",
       "      <td>0.032</td>\n",
       "      <td>10</td>\n",
       "      <td>7</td>\n",
       "    </tr>\n",
       "    <tr>\n",
       "      <th>3</th>\n",
       "      <td>12</td>\n",
       "      <td>[f16, f5, f9, f18, f11, f19, f12, f1_categoric...</td>\n",
       "      <td>[f12, f20, f18]</td>\n",
       "      <td>0.942</td>\n",
       "      <td>0.008</td>\n",
       "      <td>0.884</td>\n",
       "      <td>0.040</td>\n",
       "      <td>10</td>\n",
       "      <td>7</td>\n",
       "    </tr>\n",
       "    <tr>\n",
       "      <th>4</th>\n",
       "      <td>9</td>\n",
       "      <td>[f16, f5, f9, f11, f19, f1_categorical, f8, f1...</td>\n",
       "      <td>[f8, f11]</td>\n",
       "      <td>0.938</td>\n",
       "      <td>0.006</td>\n",
       "      <td>0.884</td>\n",
       "      <td>0.042</td>\n",
       "      <td>10</td>\n",
       "      <td>7</td>\n",
       "    </tr>\n",
       "    <tr>\n",
       "      <th>5</th>\n",
       "      <td>7</td>\n",
       "      <td>[f16, f5, f9, f19, f1_categorical, f15, f14]</td>\n",
       "      <td>[f14, f5]</td>\n",
       "      <td>0.929</td>\n",
       "      <td>0.005</td>\n",
       "      <td>0.875</td>\n",
       "      <td>0.043</td>\n",
       "      <td>10</td>\n",
       "      <td>7</td>\n",
       "    </tr>\n",
       "  </tbody>\n",
       "</table>\n",
       "</div>"
      ],
      "text/plain": [
       "   num_features                                       features_set  \\\n",
       "1            19  [f1_categorical, f2_missing, f4, f5, f6, f7, f...   \n",
       "2            15  [f5, f13, f16, f9, f10, f18, f11, f19, f12, f1...   \n",
       "3            12  [f16, f5, f9, f18, f11, f19, f12, f1_categoric...   \n",
       "4             9  [f16, f5, f9, f11, f19, f1_categorical, f8, f1...   \n",
       "5             7       [f16, f5, f9, f19, f1_categorical, f15, f14]   \n",
       "\n",
       "      eliminated_features  train_metric_mean  train_metric_std  \\\n",
       "1       [f7, f6, f17, f4]              0.942             0.008   \n",
       "2  [f13, f10, f2_missing]              0.942             0.008   \n",
       "3         [f12, f20, f18]              0.942             0.008   \n",
       "4               [f8, f11]              0.938             0.006   \n",
       "5               [f14, f5]              0.929             0.005   \n",
       "\n",
       "   val_metric_mean  val_metric_std  param_n_estimators  param_num_leaves  \n",
       "1            0.887           0.033                  10                 7  \n",
       "2            0.886           0.032                  10                 7  \n",
       "3            0.884           0.040                  10                 7  \n",
       "4            0.884           0.042                  10                 7  \n",
       "5            0.875           0.043                  10                 7  "
      ]
     },
     "execution_count": 6,
     "metadata": {},
     "output_type": "execute_result"
    }
   ],
   "source": [
    "report.head()"
   ]
  },
  {
   "cell_type": "markdown",
   "metadata": {},
   "source": [
    "Once the process is completed, you can visualize the results. \n",
    "\n",
    "Let's investigate the performance plot. Clearly, the Validation score starts decreasing between 9 and 7 features, and has a sharp drop between 3 and 2 features only. Therefore, you can safely remove 11 out of 20 features without loss of performance, or discard 17 out of 20 in order to keep only the essential ones."
   ]
  },
  {
   "cell_type": "code",
   "execution_count": 7,
   "metadata": {},
   "outputs": [
    {
     "data": {
      "image/png": "[encoded data removed]",
      "text/plain": [
       "<Figure size 432x288 with 1 Axes>"
      ]
     },
     "metadata": {
      "needs_background": "light"
     },
     "output_type": "display_data"
    }
   ],
   "source": [
    "performance_plot = shap_elimination.plot()"
   ]
  },
  {
   "cell_type": "markdown",
   "metadata": {},
   "source": [
    "The final features set for 9 features would be the following:"
   ]
  },
  {
   "cell_type": "code",
   "execution_count": 10,
   "metadata": {},
   "outputs": [
    {
     "data": {
      "text/plain": [
       "['f16', 'f5', 'f9', 'f11', 'f19', 'f1_categorical', 'f8', 'f15', 'f14']"
      ]
     },
     "execution_count": 10,
     "metadata": {},
     "output_type": "execute_result"
    }
   ],
   "source": [
    "shap_elimination.get_reduced_features_set(num_features=9)"
   ]
  },
  {
   "cell_type": "markdown",
   "metadata": {},
   "source": [
    "Now let's visualize how the optimal hyperparameter's values are affected by the features elimination.\n",
    "\n",
    "For both parameters `n_estimators` and `num_leaves`, the optimal values for most of the rounds are equal to the maximum values of these parameters in the search grid. This indicates that you can possibly further improve the results by increasing the search ranges for these parameters. However, it is crucial to ensure that the model does not overfit. Currently, there is a visible gap between Train and Validation scores for features sets having more than 3 features, therefore, one should also consider further regularizing the model."
   ]
  },
  {
   "cell_type": "code",
   "execution_count": 11,
   "metadata": {},
   "outputs": [
    {
     "data": {
      "image/png": "[encoded data removed]",
      "text/plain": [
       "<Figure size 432x288 with 1 Axes>"
      ]
     },
     "metadata": {
      "needs_background": "light"
     },
     "output_type": "display_data"
    },
    {
     "data": {
      "image/png": "[encoded data removed]",
      "text/plain": [
       "<Figure size 432x288 with 1 Axes>"
      ]
     },
     "metadata": {
      "needs_background": "light"
     },
     "output_type": "display_data"
    }
   ],
   "source": [
    "param_plots = shap_elimination.plot('parameter', param_names=['n_estimators', 'num_leaves'])"
   ]
  }
 ],
 "metadata": {
  "kernelspec": {
   "display_name": "Python 3",
   "language": "python",
   "name": "python3"
  },
  "language_info": {
   "codemirror_mode": {
    "name": "ipython",
    "version": 3
   },
   "file_extension": ".py",
   "mimetype": "text/x-python",
   "name": "python",
   "nbconvert_exporter": "python",
   "pygments_lexer": "ipython3",
   "version": "3.7.4"
  }
 },
 "nbformat": 4,
 "nbformat_minor": 4
}
