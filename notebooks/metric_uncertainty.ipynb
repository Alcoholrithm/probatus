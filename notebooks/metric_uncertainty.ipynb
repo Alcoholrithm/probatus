{
 "cells": [
  {
   "cell_type": "markdown",
   "metadata": {},
   "source": [
    "# Accuracy Metric Uncertainty\n",
    "\n",
    "This notebook provides an example how Probatus can be used to estimate the uncertainty around the performance metric of a given model."
   ]
  },
  {
   "cell_type": "code",
   "execution_count": 1,
   "metadata": {},
   "outputs": [],
   "source": [
    "from probatus.metric_uncertainty import VolatilityEstimation\n",
    "from probatus.datasets import lending_club\n",
    "from sklearn.metrics import roc_auc_score, accuracy_score\n",
    "from sklearn.ensemble import RandomForestClassifier"
   ]
  },
  {
   "cell_type": "markdown",
   "metadata": {},
   "source": [
    "### Loading Data\n",
    "\n",
    "For the example we use the lending club data that is already provided in Probatus and we will build a model and investigate the uncertainty around the AUC."
   ]
  },
  {
   "cell_type": "code",
   "execution_count": 2,
   "metadata": {},
   "outputs": [],
   "source": [
    "# Load data and build the model\n",
    "data = lending_club(modelling_mode = False)[0]\n",
    "y = data['default']\n",
    "X = data.drop(['id', 'loan_issue_date','default'], axis = 1)\n",
    "\n",
    "model = RandomForestClassifier(bootstrap=True, class_weight=None, criterion='gini', max_depth=6,\n",
    "                               max_features='auto', max_leaf_nodes=None, min_impurity_decrease=0.0,\n",
    "                               min_impurity_split=None, min_samples_leaf=1, min_samples_split=2,\n",
    "                               min_weight_fraction_leaf=0.0, n_estimators=100, n_jobs=None,\n",
    "                               oob_score=False, random_state=0, verbose=0, warm_start=False)\n",
    "\n",
    "model.fit(X, y)\n",
    "\n",
    "# defining the metrics we are interested in\n",
    "evaluators = {'AUC' : [roc_auc_score, 'proba']}"
   ]
  },
  {
   "cell_type": "markdown",
   "metadata": {},
   "source": [
    "### Running Uncertainty Evaluation\n",
    "\n",
    "#### Bootstrap replicates\n",
    "\n",
    "First fitting the localised bootstrap replicates with overlap"
   ]
  },
  {
   "cell_type": "code",
   "execution_count": 3,
   "metadata": {},
   "outputs": [
    {
     "name": "stderr",
     "output_type": "stream",
     "text": [
      "100%|██████████| 1000/1000 [05:03<00:00,  3.29it/s]\n"
     ]
    }
   ],
   "source": [
    "# declaring the evaluation class\n",
    "checker = VolatilityEstimation(model, X, y, evaluators, 'boot_seed')\n",
    "\n",
    "# running 1000 random samples with 40% of data assigned to test partition\n",
    "checker.estimate(0.4, 1000)"
   ]
  },
  {
   "cell_type": "markdown",
   "metadata": {},
   "source": [
    "The uncertainty is provided in terms of the standard deviation."
   ]
  },
  {
   "cell_type": "code",
   "execution_count": 4,
   "metadata": {},
   "outputs": [
    {
     "data": {
      "text/html": [
       "<div>\n",
       "<style scoped>\n",
       "    .dataframe tbody tr th:only-of-type {\n",
       "        vertical-align: middle;\n",
       "    }\n",
       "\n",
       "    .dataframe tbody tr th {\n",
       "        vertical-align: top;\n",
       "    }\n",
       "\n",
       "    .dataframe thead th {\n",
       "        text-align: right;\n",
       "    }\n",
       "</style>\n",
       "<table border=\"1\" class=\"dataframe\">\n",
       "  <thead>\n",
       "    <tr style=\"text-align: right;\">\n",
       "      <th></th>\n",
       "      <th>mean_train</th>\n",
       "      <th>mean_test</th>\n",
       "      <th>mean_delta</th>\n",
       "      <th>std_train</th>\n",
       "      <th>std_test</th>\n",
       "      <th>std_delta</th>\n",
       "    </tr>\n",
       "  </thead>\n",
       "  <tbody>\n",
       "    <tr>\n",
       "      <th>AUC</th>\n",
       "      <td>0.92</td>\n",
       "      <td>0.71</td>\n",
       "      <td>0.21</td>\n",
       "      <td>0.00936</td>\n",
       "      <td>0.0196</td>\n",
       "      <td>0.02263</td>\n",
       "    </tr>\n",
       "  </tbody>\n",
       "</table>\n",
       "</div>"
      ],
      "text/plain": [
       "     mean_train  mean_test  mean_delta  std_train  std_test  std_delta\n",
       "AUC        0.92       0.71        0.21    0.00936    0.0196    0.02263"
      ]
     },
     "execution_count": 4,
     "metadata": {},
     "output_type": "execute_result"
    }
   ],
   "source": [
    "checker.get_report('AUC')"
   ]
  },
  {
   "cell_type": "markdown",
   "metadata": {},
   "source": [
    "and histograms allow to see the differences between the train and the test sets."
   ]
  },
  {
   "cell_type": "code",
   "execution_count": 5,
   "metadata": {},
   "outputs": [
    {
     "data": {
      "image/png": "[encoded data removed]",
      "text/plain": [
       "<Figure size 432x288 with 1 Axes>"
      ]
     },
     "metadata": {
      "needs_background": "light"
     },
     "output_type": "display_data"
    },
    {
     "data": {
      "image/png": "[encoded data removed]",
      "text/plain": [
       "<Figure size 432x288 with 1 Axes>"
      ]
     },
     "metadata": {
      "needs_background": "light"
     },
     "output_type": "display_data"
    }
   ],
   "source": [
    "checker.plot('AUC')"
   ]
  },
  {
   "cell_type": "markdown",
   "metadata": {},
   "source": [
    "#### Global bootstrap non overlapping k folds"
   ]
  },
  {
   "cell_type": "markdown",
   "metadata": {},
   "source": [
    "The number of max folds is determined by the nature of the data: what is the maximum number of folds to ensure there is balanced number of classed in each fold."
   ]
  },
  {
   "cell_type": "code",
   "execution_count": 6,
   "metadata": {},
   "outputs": [
    {
     "name": "stderr",
     "output_type": "stream",
     "text": [
      "100%|██████████| 11/11 [00:10<00:00,  1.06it/s]\n"
     ]
    }
   ],
   "source": [
    "# declaring the evaluation class\n",
    "checker = VolatilityEstimation(model, X, y, evaluators, 'boot_global')\n",
    "\n",
    "# running 1000 random samples with 40% of data assigned to test partition\n",
    "checker.estimate(0.1)"
   ]
  },
  {
   "cell_type": "code",
   "execution_count": 7,
   "metadata": {},
   "outputs": [
    {
     "data": {
      "text/html": [
       "<div>\n",
       "<style scoped>\n",
       "    .dataframe tbody tr th:only-of-type {\n",
       "        vertical-align: middle;\n",
       "    }\n",
       "\n",
       "    .dataframe tbody tr th {\n",
       "        vertical-align: top;\n",
       "    }\n",
       "\n",
       "    .dataframe thead th {\n",
       "        text-align: right;\n",
       "    }\n",
       "</style>\n",
       "<table border=\"1\" class=\"dataframe\">\n",
       "  <thead>\n",
       "    <tr style=\"text-align: right;\">\n",
       "      <th></th>\n",
       "      <th>mean_train</th>\n",
       "      <th>mean_test</th>\n",
       "      <th>mean_delta</th>\n",
       "      <th>std_train</th>\n",
       "      <th>std_test</th>\n",
       "      <th>std_delta</th>\n",
       "    </tr>\n",
       "  </thead>\n",
       "  <tbody>\n",
       "    <tr>\n",
       "      <th>AUC</th>\n",
       "      <td>0.98</td>\n",
       "      <td>0.66</td>\n",
       "      <td>0.32</td>\n",
       "      <td>0.00001</td>\n",
       "      <td>0.00093</td>\n",
       "      <td>0.00099</td>\n",
       "    </tr>\n",
       "  </tbody>\n",
       "</table>\n",
       "</div>"
      ],
      "text/plain": [
       "     mean_train  mean_test  mean_delta  std_train  std_test  std_delta\n",
       "AUC        0.98       0.66        0.32    0.00001   0.00093    0.00099"
      ]
     },
     "execution_count": 7,
     "metadata": {},
     "output_type": "execute_result"
    }
   ],
   "source": [
    "checker.get_report('AUC')"
   ]
  },
  {
   "cell_type": "code",
   "execution_count": 8,
   "metadata": {},
   "outputs": [
    {
     "data": {
      "image/png": "[encoded data removed]",
      "text/plain": [
       "<Figure size 432x288 with 1 Axes>"
      ]
     },
     "metadata": {
      "needs_background": "light"
     },
     "output_type": "display_data"
    },
    {
     "data": {
      "image/png": "[encoded data removed]",
      "text/plain": [
       "<Figure size 432x288 with 1 Axes>"
      ]
     },
     "metadata": {
      "needs_background": "light"
     },
     "output_type": "display_data"
    }
   ],
   "source": [
    "checker.plot('AUC')"
   ]
  }
 ],
 "metadata": {
  "kernelspec": {
   "display_name": "Python 3",
   "language": "python",
   "name": "python3"
  },
  "language_info": {
   "codemirror_mode": {
    "name": "ipython",
    "version": 3
   },
   "file_extension": ".py",
   "mimetype": "text/x-python",
   "name": "python",
   "nbconvert_exporter": "python",
   "pygments_lexer": "ipython3",
   "version": "3.7.3"
  }
 },
 "nbformat": 4,
 "nbformat_minor": 4
}
