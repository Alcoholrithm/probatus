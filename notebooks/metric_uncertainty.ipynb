{
 "cells": [
  {
   "cell_type": "code",
   "execution_count": 2,
   "metadata": {},
   "outputs": [],
   "source": [
    "import numpy as np\n",
    "from pyrisk.metric_uncertainty import VolatilityEstimation\n",
    "from sklearn.metrics import roc_auc_score\n",
    "from sklearn.metrics import accuracy_score\n",
    "from pyrisk.models import lending_club_model\n",
    "from pyrisk.datasets import lending_club"
   ]
  },
  {
   "cell_type": "markdown",
   "metadata": {},
   "source": [
    "### Loading Data\n",
    "\n",
    "Loading test data from lending club"
   ]
  },
  {
   "cell_type": "code",
   "execution_count": 3,
   "metadata": {},
   "outputs": [],
   "source": [
    "# loading a dummy model\n",
    "model = lending_club_model()\n",
    "\n",
    "# loading original data\n",
    "data = lending_club(modelling_mode = False)[0]\n",
    "y = data[['default']]\n",
    "X = data.drop(['id', 'loan_issue_date','default'], axis = 1)\n",
    "\n",
    "# defining the metrics we are interested in\n",
    "evaluators =  {'AUC' : [roc_auc_score,'proba'], 'ACC' : [accuracy_score,'class']}"
   ]
  },
  {
   "cell_type": "markdown",
   "metadata": {},
   "source": [
    "### Running Uncertainty Evaluation\n",
    "\n",
    "Running the Uncertainty Evaluation"
   ]
  },
  {
   "cell_type": "code",
   "execution_count": 5,
   "metadata": {},
   "outputs": [],
   "source": [
    "# declaring the evaluation class\n",
    "checker = VolatilityEstimation(model, X, y, evaluators)\n",
    "\n",
    "# running 1000 random samples with 40% of data assigned to test partition\n",
    "checker.estimate(0.4,1000)"
   ]
  },
  {
   "cell_type": "markdown",
   "metadata": {},
   "source": [
    "### Investigating Uncertainty Evaluation\n",
    "\n",
    "Plotting distribution of the metrics and summary statistics"
   ]
  },
  {
   "cell_type": "code",
   "execution_count": 7,
   "metadata": {},
   "outputs": [
    {
     "data": {
      "text/plain": [
       "array([[0.9082746 , 0.67872525],\n",
       "       [0.93612009, 0.67258636],\n",
       "       [0.93081814, 0.70798767],\n",
       "       ...,\n",
       "       [0.90904996, 0.69934119],\n",
       "       [0.93008481, 0.67159031],\n",
       "       [0.89691204, 0.69753577]])"
      ]
     },
     "execution_count": 7,
     "metadata": {},
     "output_type": "execute_result"
    }
   ],
   "source": [
    "# First getting the data back\n",
    "checker.metrics_list['AUC']"
   ]
  },
  {
   "cell_type": "code",
   "execution_count": 8,
   "metadata": {},
   "outputs": [
    {
     "data": {
      "text/plain": [
       "array([[0.97570721, 0.97555129],\n",
       "       [0.97570721, 0.97555129],\n",
       "       [0.97570721, 0.97555129],\n",
       "       ...,\n",
       "       [0.97570721, 0.97555129],\n",
       "       [0.97570721, 0.97555129],\n",
       "       [0.97570721, 0.97555129]])"
      ]
     },
     "execution_count": 8,
     "metadata": {},
     "output_type": "execute_result"
    }
   ],
   "source": [
    "checker.metrics_list['ACC']"
   ]
  },
  {
   "cell_type": "code",
   "execution_count": 9,
   "metadata": {},
   "outputs": [
    {
     "name": "stdout",
     "output_type": "stream",
     "text": [
      "Mean of metric on train is 0.98\n",
      "Mean of metric on test is 0.98\n",
      "Standard Deviation of metric on train is 0.0\n",
      "Standard Deviation of metric on test is 0.0\n"
     ]
    }
   ],
   "source": [
    "# Producing summary stats\n",
    "checker.reporting('ACC')"
   ]
  },
  {
   "cell_type": "code",
   "execution_count": 10,
   "metadata": {},
   "outputs": [
    {
     "name": "stdout",
     "output_type": "stream",
     "text": [
      "Mean of metric on train is 0.92\n",
      "Mean of metric on test is 0.71\n",
      "Standard Deviation of metric on train is 0.01\n",
      "Standard Deviation of metric on test is 0.02\n"
     ]
    }
   ],
   "source": [
    "checker.reporting('AUC')"
   ]
  },
  {
   "cell_type": "code",
   "execution_count": 11,
   "metadata": {},
   "outputs": [
    {
     "data": {
      "image/png": "[encoded data removed]",
      "text/plain": [
       "<Figure size 432x288 with 1 Axes>"
      ]
     },
     "metadata": {
      "needs_background": "light"
     },
     "output_type": "display_data"
    }
   ],
   "source": [
    "# creating distribution plots\n",
    "checker.plot('ACC')"
   ]
  },
  {
   "cell_type": "code",
   "execution_count": 12,
   "metadata": {},
   "outputs": [
    {
     "data": {
      "image/png": "[encoded data removed]",
      "text/plain": [
       "<Figure size 432x288 with 1 Axes>"
      ]
     },
     "metadata": {
      "needs_background": "light"
     },
     "output_type": "display_data"
    }
   ],
   "source": [
    "checker.plot('AUC')"
   ]
  }
 ],
 "metadata": {
  "kernelspec": {
   "display_name": "Python 3",
   "language": "python",
   "name": "python3"
  },
  "language_info": {
   "codemirror_mode": {
    "name": "ipython",
    "version": 3
   },
   "file_extension": ".py",
   "mimetype": "text/x-python",
   "name": "python",
   "nbconvert_exporter": "python",
   "pygments_lexer": "ipython3",
   "version": "3.6.8"
  }
 },
 "nbformat": 4,
 "nbformat_minor": 2
}
