{
 "cells": [
  {
   "cell_type": "code",
   "execution_count": null,
   "metadata": {},
   "outputs": [],
   "source": [
    "import numpy as np\n",
    "from pyrisk.metric_uncertainty import VolatilityEstimation\n",
    "from sklearn.metrics import roc_auc_score\n",
    "from sklearn.metrics import accuracy_score\n",
    "from pyrisk.models import lending_club_model\n",
    "from pyrisk.datasets import lending_club\n",
    "\n",
    "# loading a dummy model\n",
    "model = lending_club_model()\n",
    "\n",
    "# loading original data\n",
    "data = lending_club(modelling_mode = False)[0]\n",
    "y = data[['default']]\n",
    "X = data.drop(['id', 'loan_issue_date','default'], axis = 1)\n",
    "evaluators =  {'AUC' : [roc_auc_score,'proba'], 'ACC' : [accuracy_score,'class']}\n",
    "checker = VolatilityEstimation(model, X, y, evaluators)\n",
    "checker.estimate(0.4,2)\n",
    "\n",
    "list(checker.metrics_list.keys())\n",
    "\n",
    "checker.metrics_list['ACC'].shape[0] == 2\n",
    "\n",
    "np.mean(checker.metrics_list)\n",
    "np.var(checker.metrics_list)\n",
    "\n",
    "new_aucs = []\n",
    "\n",
    "for i in range(0,5000):\n",
    "    c = np.random.normal(np.mean(checker.auc_list), np.std(checker.auc_list), 1)\n",
    "    new_aucs.append(c[0])\n",
    "\n",
    "\n",
    "import matplotlib.pyplot as plt\n",
    "\n",
    "plt.hist(checker.auc_list, bins=50)\n",
    "plt.hist(new_aucs, bins=50)\n",
    "\n",
    "plt.show()\n",
    "\n",
    "np.var(new_aucs)\n",
    "np.var(checker.mean_AUCs)\n",
    "\n",
    "\n",
    "for i in np.arange(0.6, 0.99, 0.01):\n",
    "    checker.estimate(100, 1-i)\n",
    "\n",
    "checker.metrics_list"
   ]
  }
 ],
 "metadata": {
  "kernelspec": {
   "display_name": "Python 3",
   "language": "python",
   "name": "python3"
  },
  "language_info": {
   "name": ""
  }
 },
 "nbformat": 4,
 "nbformat_minor": 2
}
