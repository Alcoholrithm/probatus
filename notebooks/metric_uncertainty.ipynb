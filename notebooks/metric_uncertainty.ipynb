{
 "cells": [
  {
   "cell_type": "code",
   "execution_count": 1,
   "metadata": {},
   "outputs": [],
   "source": [
    "import numpy as np\n",
    "from pyrisk.metric_uncertainty import VolatilityEstimation\n",
    "from sklearn.metrics import roc_auc_score\n",
    "from sklearn.metrics import accuracy_score\n",
    "from pyrisk.models import lending_club_model\n",
    "from pyrisk.datasets import lending_club"
   ]
  },
  {
   "cell_type": "markdown",
   "metadata": {},
   "source": [
    "### Loading Data\n",
    "\n",
    "Loading test data from lending club"
   ]
  },
  {
   "cell_type": "code",
   "execution_count": 2,
   "metadata": {},
   "outputs": [],
   "source": [
    "# loading a dummy model\n",
    "model = lending_club_model()\n",
    "\n",
    "# loading original data\n",
    "data = lending_club(modelling_mode = False)[0]\n",
    "y = data[['default']]\n",
    "X = data.drop(['id', 'loan_issue_date','default'], axis = 1)\n",
    "\n",
    "# defining the metrics we are interested in\n",
    "evaluators =  {'AUC' : [roc_auc_score,'proba'], 'ACC' : [accuracy_score,'class']}"
   ]
  },
  {
   "cell_type": "markdown",
   "metadata": {},
   "source": [
    "### Running Uncertainty Evaluation\n",
    "\n",
    "Running the Uncertainty Evaluation"
   ]
  },
  {
   "cell_type": "code",
   "execution_count": 3,
   "metadata": {},
   "outputs": [],
   "source": [
    "# declaring the evaluation class\n",
    "checker = VolatilityEstimation(model, X, y, evaluators, 'boot_seed')\n",
    "\n",
    "# running 1000 random samples with 40% of data assigned to test partition\n",
    "checker.estimate(0.4,100)"
   ]
  },
  {
   "cell_type": "markdown",
   "metadata": {},
   "source": [
    "### Investigating Uncertainty Evaluation\n",
    "\n",
    "Plotting distribution of the metrics and summary statistics"
   ]
  },
  {
   "cell_type": "code",
   "execution_count": 4,
   "metadata": {},
   "outputs": [
    {
     "data": {
      "text/plain": [
       "array([[0.9250194 , 0.70100568, 0.22401371],\n",
       "       [0.91563322, 0.71208749, 0.20354573],\n",
       "       [0.91704761, 0.67380763, 0.24323998],\n",
       "       [0.90224686, 0.69025871, 0.21198816],\n",
       "       [0.93510604, 0.72716192, 0.20794412],\n",
       "       [0.91855899, 0.70841042, 0.21014857],\n",
       "       [0.91674641, 0.70897047, 0.20777594],\n",
       "       [0.9326679 , 0.69344799, 0.2392199 ],\n",
       "       [0.91445698, 0.69799104, 0.21646594],\n",
       "       [0.90920622, 0.71896589, 0.19024032],\n",
       "       [0.90662098, 0.7083779 , 0.19824308],\n",
       "       [0.91478889, 0.68474731, 0.23004158],\n",
       "       [0.91835747, 0.71010623, 0.20825124],\n",
       "       [0.8990797 , 0.72374018, 0.17533952],\n",
       "       [0.92700009, 0.72392928, 0.20307081],\n",
       "       [0.92760464, 0.69483789, 0.23276675],\n",
       "       [0.91517199, 0.70353134, 0.21164065],\n",
       "       [0.92253761, 0.74141254, 0.18112507],\n",
       "       [0.9154026 , 0.68626608, 0.22913652],\n",
       "       [0.92414651, 0.70074914, 0.22339737],\n",
       "       [0.9151235 , 0.72146866, 0.19365484],\n",
       "       [0.91728199, 0.7245363 , 0.19274569],\n",
       "       [0.92619887, 0.70067808, 0.22552078],\n",
       "       [0.92629208, 0.697979  , 0.22831309],\n",
       "       [0.92276822, 0.68668642, 0.2360818 ],\n",
       "       [0.92960149, 0.70920533, 0.22039616],\n",
       "       [0.91329368, 0.68865684, 0.22463684],\n",
       "       [0.91050476, 0.69066339, 0.21984137],\n",
       "       [0.91427217, 0.66468782, 0.24958435],\n",
       "       [0.92063774, 0.74659392, 0.17404382],\n",
       "       [0.92771994, 0.71422773, 0.21349221],\n",
       "       [0.91851157, 0.70689647, 0.21161511],\n",
       "       [0.91931657, 0.71910922, 0.20020735],\n",
       "       [0.90538924, 0.69993737, 0.20545187],\n",
       "       [0.91697864, 0.72633088, 0.19064776],\n",
       "       [0.92575111, 0.69859325, 0.22715786],\n",
       "       [0.91981012, 0.6886195 , 0.23119062],\n",
       "       [0.90554711, 0.72700173, 0.17854538],\n",
       "       [0.91984029, 0.69116202, 0.22867828],\n",
       "       [0.91351351, 0.72220697, 0.19130655],\n",
       "       [0.90744644, 0.71521535, 0.19223109],\n",
       "       [0.91563214, 0.70642554, 0.2092066 ],\n",
       "       [0.91422044, 0.7135087 , 0.20071174],\n",
       "       [0.90151892, 0.74042251, 0.16109642],\n",
       "       [0.93115975, 0.69452474, 0.23663501],\n",
       "       [0.92555714, 0.72885773, 0.1966994 ],\n",
       "       [0.91653142, 0.72032567, 0.19620575],\n",
       "       [0.92210656, 0.67031724, 0.25178931],\n",
       "       [0.90358259, 0.70671099, 0.1968716 ],\n",
       "       [0.90966636, 0.74881727, 0.1608491 ],\n",
       "       [0.91645168, 0.73214458, 0.1843071 ],\n",
       "       [0.91407873, 0.73567592, 0.17840282],\n",
       "       [0.91379585, 0.6833526 , 0.23044325],\n",
       "       [0.91630566, 0.73472202, 0.18158364],\n",
       "       [0.92433402, 0.68505324, 0.23928079],\n",
       "       [0.91591771, 0.67809414, 0.23782358],\n",
       "       [0.91037437, 0.69469577, 0.2156786 ],\n",
       "       [0.91043364, 0.72256588, 0.18786776],\n",
       "       [0.89640933, 0.70578359, 0.19062574],\n",
       "       [0.92057093, 0.67616467, 0.24440626],\n",
       "       [0.91623023, 0.71850219, 0.19772803],\n",
       "       [0.92283719, 0.68171942, 0.24111777],\n",
       "       [0.90319626, 0.68532182, 0.21787444],\n",
       "       [0.91979072, 0.69158958, 0.22820114],\n",
       "       [0.9005566 , 0.68073782, 0.21981877],\n",
       "       [0.92438467, 0.69007323, 0.23431144],\n",
       "       [0.92635943, 0.71204052, 0.21431892],\n",
       "       [0.91797168, 0.74391771, 0.17405397],\n",
       "       [0.91504645, 0.74118611, 0.17386034],\n",
       "       [0.92347515, 0.75890302, 0.16457213],\n",
       "       [0.90661397, 0.71644987, 0.1901641 ],\n",
       "       [0.91770066, 0.67568892, 0.24201173],\n",
       "       [0.91726152, 0.72665486, 0.19060666],\n",
       "       [0.92095888, 0.68341042, 0.23754846],\n",
       "       [0.92237758, 0.6954136 , 0.22696399],\n",
       "       [0.92866072, 0.68524353, 0.24341719],\n",
       "       [0.92004828, 0.69865106, 0.22139722],\n",
       "       [0.91676365, 0.7105362 , 0.20622745],\n",
       "       [0.91083398, 0.70126343, 0.20957055],\n",
       "       [0.890415  , 0.74196175, 0.14845325],\n",
       "       [0.9125291 , 0.70453582, 0.20799328],\n",
       "       [0.92920923, 0.68325746, 0.24595178],\n",
       "       [0.93124919, 0.69298068, 0.23826851],\n",
       "       [0.90586232, 0.66314496, 0.24271736],\n",
       "       [0.90268977, 0.72793154, 0.17475823],\n",
       "       [0.89600144, 0.70174158, 0.19425986],\n",
       "       [0.93107569, 0.69319507, 0.23788063],\n",
       "       [0.92590467, 0.74255673, 0.18334794],\n",
       "       [0.91517846, 0.71643903, 0.19873942],\n",
       "       [0.92032307, 0.67848557, 0.2418375 ],\n",
       "       [0.91668768, 0.74472949, 0.17195819],\n",
       "       [0.91766455, 0.69971335, 0.2179512 ],\n",
       "       [0.91651741, 0.74663848, 0.16987893],\n",
       "       [0.91098485, 0.69957846, 0.21140639],\n",
       "       [0.91831006, 0.7212338 , 0.19707626],\n",
       "       [0.90853108, 0.72083875, 0.18769233],\n",
       "       [0.91236907, 0.70065159, 0.21171748],\n",
       "       [0.91568387, 0.69279761, 0.22288626],\n",
       "       [0.92325639, 0.68630101, 0.23695538],\n",
       "       [0.9206011 , 0.69991328, 0.22068782]])"
      ]
     },
     "execution_count": 4,
     "metadata": {},
     "output_type": "execute_result"
    }
   ],
   "source": [
    "# First getting the data back\n",
    "checker.metrics_list['AUC']"
   ]
  },
  {
   "cell_type": "code",
   "execution_count": 5,
   "metadata": {},
   "outputs": [
    {
     "name": "stdout",
     "output_type": "stream",
     "text": [
      "Mean of metric on train is 0.92\n",
      "Mean of metric on test is 0.71\n",
      "Mean of delta is 0.21\n",
      "Standard Deviation of metric on train is 0.01\n",
      "Standard Deviation of metric on test is 0.02\n",
      "Standard Deviation of delta is 0.02\n"
     ]
    }
   ],
   "source": [
    "checker.reporting('AUC')"
   ]
  },
  {
   "cell_type": "code",
   "execution_count": 6,
   "metadata": {},
   "outputs": [
    {
     "data": {
      "image/png": "[encoded data removed]",
      "text/plain": [
       "<Figure size 432x288 with 1 Axes>"
      ]
     },
     "metadata": {
      "needs_background": "light"
     },
     "output_type": "display_data"
    },
    {
     "data": {
      "image/png": "[encoded data removed]",
      "text/plain": [
       "<Figure size 432x288 with 1 Axes>"
      ]
     },
     "metadata": {
      "needs_background": "light"
     },
     "output_type": "display_data"
    }
   ],
   "source": [
    "checker.plot('AUC')"
   ]
  },
  {
   "cell_type": "code",
   "execution_count": 7,
   "metadata": {},
   "outputs": [],
   "source": [
    "# declaring the evaluation class\n",
    "checker = VolatilityEstimation(model, X, y, evaluators, 'boot_global')\n",
    "\n",
    "# running 1000 random samples with 40% of data assigned to test partition\n",
    "checker.estimate(0.4)"
   ]
  },
  {
   "cell_type": "code",
   "execution_count": 10,
   "metadata": {},
   "outputs": [
    {
     "data": {
      "text/plain": [
       "array([0.95450107, 0.98109032, 0.99056617, 0.99486738, 0.99673878,\n",
       "       0.99760276, 0.99821544, 0.99920027, 0.99962602, 0.99954509,\n",
       "       0.99985285, 0.9998615 , 0.99982967, 0.99998821, 0.99997456,\n",
       "       0.99998502, 1.        , 1.        , 1.        , 0.99996838,\n",
       "       1.        , 1.        , 1.        , 1.        , 1.        ,\n",
       "       1.        , 1.        , 1.        , 1.        , 1.        ,\n",
       "       1.        , 1.        , 1.        , 1.        , 1.        ,\n",
       "       1.        , 1.        , 1.        , 1.        , 1.        ])"
      ]
     },
     "execution_count": 10,
     "metadata": {},
     "output_type": "execute_result"
    }
   ],
   "source": [
    "# First getting the data back\n",
    "checker.metrics_list['AUC'][:,0]"
   ]
  },
  {
   "cell_type": "code",
   "execution_count": 12,
   "metadata": {},
   "outputs": [
    {
     "name": "stdout",
     "output_type": "stream",
     "text": [
      "Mean of metric on train is 1.0\n",
      "Mean of metric on test is 0.6\n",
      "Mean of delta is 0.39\n"
     ]
    }
   ],
   "source": [
    "checker.reporting('AUC')"
   ]
  },
  {
   "cell_type": "code",
   "execution_count": 13,
   "metadata": {},
   "outputs": [
    {
     "ename": "UnboundLocalError",
     "evalue": "local variable 'train' referenced before assignment",
     "output_type": "error",
     "traceback": [
      "\u001b[0;31m---------------------------------------------------------------------------\u001b[0m",
      "\u001b[0;31mUnboundLocalError\u001b[0m                         Traceback (most recent call last)",
      "\u001b[0;32m<ipython-input-13-f60135b382c7>\u001b[0m in \u001b[0;36m<module>\u001b[0;34m\u001b[0m\n\u001b[0;32m----> 1\u001b[0;31m \u001b[0mchecker\u001b[0m\u001b[0;34m.\u001b[0m\u001b[0mplot\u001b[0m\u001b[0;34m(\u001b[0m\u001b[0;34m'AUC'\u001b[0m\u001b[0;34m)\u001b[0m\u001b[0;34m\u001b[0m\u001b[0;34m\u001b[0m\u001b[0m\n\u001b[0m",
      "\u001b[0;32m/anaconda3/lib/python3.6/site-packages/pyrisk-local-py3.6.egg/pyrisk/metric_uncertainty/volatility.py\u001b[0m in \u001b[0;36mplot\u001b[0;34m(self, metric)\u001b[0m\n\u001b[1;32m    123\u001b[0m             \u001b[0mdelta\u001b[0m \u001b[0;34m=\u001b[0m \u001b[0mnp\u001b[0m\u001b[0;34m.\u001b[0m\u001b[0mrandom\u001b[0m\u001b[0;34m.\u001b[0m\u001b[0mnormal\u001b[0m\u001b[0;34m(\u001b[0m\u001b[0mnp\u001b[0m\u001b[0;34m.\u001b[0m\u001b[0mmean\u001b[0m\u001b[0;34m(\u001b[0m\u001b[0mmetric_data\u001b[0m\u001b[0;34m[\u001b[0m\u001b[0;34m:\u001b[0m\u001b[0;34m,\u001b[0m\u001b[0;36m2\u001b[0m\u001b[0;34m]\u001b[0m\u001b[0;34m)\u001b[0m\u001b[0;34m,\u001b[0m \u001b[0mnp\u001b[0m\u001b[0;34m.\u001b[0m\u001b[0msqrt\u001b[0m\u001b[0;34m(\u001b[0m\u001b[0mnp\u001b[0m\u001b[0;34m.\u001b[0m\u001b[0mmean\u001b[0m\u001b[0;34m(\u001b[0m\u001b[0mmetric_data\u001b[0m\u001b[0;34m[\u001b[0m\u001b[0;34m:\u001b[0m\u001b[0;34m,\u001b[0m\u001b[0;36m5\u001b[0m\u001b[0;34m]\u001b[0m\u001b[0;34m)\u001b[0m\u001b[0;34m)\u001b[0m\u001b[0;34m,\u001b[0m \u001b[0;36m10000\u001b[0m\u001b[0;34m)\u001b[0m\u001b[0;34m\u001b[0m\u001b[0;34m\u001b[0m\u001b[0m\n\u001b[1;32m    124\u001b[0m \u001b[0;34m\u001b[0m\u001b[0m\n\u001b[0;32m--> 125\u001b[0;31m         \u001b[0mplt\u001b[0m\u001b[0;34m.\u001b[0m\u001b[0mhist\u001b[0m\u001b[0;34m(\u001b[0m\u001b[0mtrain\u001b[0m\u001b[0;34m,\u001b[0m \u001b[0malpha\u001b[0m\u001b[0;34m=\u001b[0m\u001b[0;36m0.5\u001b[0m\u001b[0;34m,\u001b[0m \u001b[0mlabel\u001b[0m\u001b[0;34m=\u001b[0m\u001b[0;34m'Train'\u001b[0m\u001b[0;34m)\u001b[0m\u001b[0;34m\u001b[0m\u001b[0;34m\u001b[0m\u001b[0m\n\u001b[0m\u001b[1;32m    126\u001b[0m         \u001b[0mplt\u001b[0m\u001b[0;34m.\u001b[0m\u001b[0mhist\u001b[0m\u001b[0;34m(\u001b[0m\u001b[0mtest\u001b[0m\u001b[0;34m,\u001b[0m \u001b[0malpha\u001b[0m\u001b[0;34m=\u001b[0m\u001b[0;36m0.5\u001b[0m\u001b[0;34m,\u001b[0m \u001b[0mlabel\u001b[0m\u001b[0;34m=\u001b[0m\u001b[0;34m'Test'\u001b[0m\u001b[0;34m)\u001b[0m\u001b[0;34m\u001b[0m\u001b[0;34m\u001b[0m\u001b[0m\n\u001b[1;32m    127\u001b[0m         \u001b[0mplt\u001b[0m\u001b[0;34m.\u001b[0m\u001b[0mlegend\u001b[0m\u001b[0;34m(\u001b[0m\u001b[0mloc\u001b[0m\u001b[0;34m=\u001b[0m\u001b[0;34m'upper right'\u001b[0m\u001b[0;34m)\u001b[0m\u001b[0;34m\u001b[0m\u001b[0;34m\u001b[0m\u001b[0m\n",
      "\u001b[0;31mUnboundLocalError\u001b[0m: local variable 'train' referenced before assignment"
     ]
    }
   ],
   "source": [
    "checker.plot('AUC')"
   ]
  },
  {
   "cell_type": "code",
   "execution_count": null,
   "metadata": {},
   "outputs": [],
   "source": []
  }
 ],
 "metadata": {
  "kernelspec": {
   "display_name": "Python 3",
   "language": "python",
   "name": "python3"
  },
  "language_info": {
   "codemirror_mode": {
    "name": "ipython",
    "version": 3
   },
   "file_extension": ".py",
   "mimetype": "text/x-python",
   "name": "python",
   "nbconvert_exporter": "python",
   "pygments_lexer": "ipython3",
   "version": "3.6.8"
  }
 },
 "nbformat": 4,
 "nbformat_minor": 2
}
