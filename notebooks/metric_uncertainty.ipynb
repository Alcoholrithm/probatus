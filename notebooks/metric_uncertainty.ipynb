{
 "cells": [
  {
   "cell_type": "markdown",
   "metadata": {},
   "source": [
    "# Accuracy Metric Uncertainty\n",
    "\n",
    "This notebook provides an example how Probatus can be used to estimate the uncertainty around the accuracy metric of a given model."
   ]
  },
  {
   "cell_type": "code",
   "execution_count": 1,
   "metadata": {},
   "outputs": [],
   "source": [
    "import numpy as np\n",
    "from probatus.metric_uncertainty import VolatilityEstimation\n",
    "from sklearn.metrics import roc_auc_score\n",
    "from sklearn.metrics import accuracy_score\n",
    "from probatus.models import lending_club_model\n",
    "from probatus.datasets import lending_club"
   ]
  },
  {
   "cell_type": "markdown",
   "metadata": {},
   "source": [
    "### Loading Data\n",
    "\n",
    "For the example we use the lending club data and model that are already provided in Probatus and we will investigate the uncertainty around the AUC."
   ]
  },
  {
   "cell_type": "code",
   "execution_count": 2,
   "metadata": {},
   "outputs": [
    {
     "name": "stderr",
     "output_type": "stream",
     "text": [
      "/Users/fb24xi/miniconda3/envs/probapy/lib/python3.6/site-packages/sklearn/base.py:306: UserWarning: Trying to unpickle estimator DecisionTreeClassifier from version 0.20.2 when using version 0.21.3. This might lead to breaking code or invalid results. Use at your own risk.\n",
      "  UserWarning)\n",
      "/Users/fb24xi/miniconda3/envs/probapy/lib/python3.6/site-packages/sklearn/base.py:306: UserWarning: Trying to unpickle estimator RandomForestClassifier from version 0.20.2 when using version 0.21.3. This might lead to breaking code or invalid results. Use at your own risk.\n",
      "  UserWarning)\n"
     ]
    }
   ],
   "source": [
    "# loading a the 'lending club' model\n",
    "model = lending_club_model()\n",
    "\n",
    "# and the associated original data\n",
    "data = lending_club(modelling_mode = False)[0]\n",
    "y = data[['default']]\n",
    "X = data.drop(['id', 'loan_issue_date','default'], axis = 1)\n",
    "\n",
    "# defining the metrics we are interested in\n",
    "evaluators =  {'AUC' : [roc_auc_score,'proba']}"
   ]
  },
  {
   "cell_type": "markdown",
   "metadata": {},
   "source": [
    "### Running Uncertainty Evaluation\n",
    "\n",
    "#### Bootstrap replicates\n",
    "\n",
    "First fitting the localised bootstrap replicates with overlap"
   ]
  },
  {
   "cell_type": "code",
   "execution_count": 3,
   "metadata": {},
   "outputs": [],
   "source": [
    "# declaring the evaluation class\n",
    "checker = VolatilityEstimation(model, X, y, evaluators, 'boot_seed')\n",
    "\n",
    "# running 1000 random samples with 40% of data assigned to test partition\n",
    "checker.estimate(0.4,1000)"
   ]
  },
  {
   "cell_type": "markdown",
   "metadata": {},
   "source": [
    "The uncertainty is provided in term of the standard deviation."
   ]
  },
  {
   "cell_type": "code",
   "execution_count": 4,
   "metadata": {},
   "outputs": [
    {
     "name": "stdout",
     "output_type": "stream",
     "text": [
      "Mean of metric on train is 0.92\n",
      "Mean of metric on test is 0.71\n",
      "Mean of delta is 0.21\n",
      "Standard Deviation of metric on train is 0.0093\n",
      "Standard Deviation of metric on test is 0.02\n",
      "Standard Deviation of delta is 0.02318\n"
     ]
    }
   ],
   "source": [
    "checker.reporting('AUC')"
   ]
  },
  {
   "cell_type": "markdown",
   "metadata": {},
   "source": [
    "and histograms allow to see the differences between the train and the test sets."
   ]
  },
  {
   "cell_type": "code",
   "execution_count": 5,
   "metadata": {},
   "outputs": [
    {
     "data": {
      "image/png": "[encoded data removed]",
      "text/plain": [
       "<Figure size 432x288 with 1 Axes>"
      ]
     },
     "metadata": {
      "needs_background": "light"
     },
     "output_type": "display_data"
    },
    {
     "data": {
      "image/png": "[encoded data removed]",
      "text/plain": [
       "<Figure size 432x288 with 1 Axes>"
      ]
     },
     "metadata": {
      "needs_background": "light"
     },
     "output_type": "display_data"
    }
   ],
   "source": [
    "checker.plot('AUC')"
   ]
  },
  {
   "cell_type": "markdown",
   "metadata": {},
   "source": [
    "#### Global bootrap non overlapping k folds"
   ]
  },
  {
   "cell_type": "markdown",
   "metadata": {},
   "source": [
    "The number of max folds is determined by the nature of the data: what is the maximum number of folds to ensure there is balanced number of classed in each fold."
   ]
  },
  {
   "cell_type": "code",
   "execution_count": 6,
   "metadata": {},
   "outputs": [],
   "source": [
    "# declaring the evaluation class\n",
    "checker = VolatilityEstimation(model, X, y, evaluators, 'boot_global')\n",
    "\n",
    "# running 1000 random samples with 40% of data assigned to test partition\n",
    "checker.estimate(0.1)"
   ]
  },
  {
   "cell_type": "code",
   "execution_count": 7,
   "metadata": {},
   "outputs": [
    {
     "name": "stdout",
     "output_type": "stream",
     "text": [
      "Mean of metric on train is 0.97\n",
      "Mean of metric on test is 0.65\n",
      "Mean of delta is 0.32\n",
      "Standard Deviation of metric on train is 6e-05\n",
      "Standard Deviation of metric on test is 0.00169\n",
      "Standard Deviation of delta is 0.00173\n"
     ]
    }
   ],
   "source": [
    "checker.reporting('AUC')"
   ]
  },
  {
   "cell_type": "code",
   "execution_count": 8,
   "metadata": {},
   "outputs": [
    {
     "data": {
      "image/png": "[encoded data removed]",
      "text/plain": [
       "<Figure size 432x288 with 1 Axes>"
      ]
     },
     "metadata": {
      "needs_background": "light"
     },
     "output_type": "display_data"
    },
    {
     "data": {
      "image/png": "[encoded data removed]",
      "text/plain": [
       "<Figure size 432x288 with 1 Axes>"
      ]
     },
     "metadata": {
      "needs_background": "light"
     },
     "output_type": "display_data"
    }
   ],
   "source": [
    "checker.plot('AUC')"
   ]
  },
  {
   "cell_type": "markdown",
   "metadata": {},
   "source": [
    "#### DeLong approach (experimental)"
   ]
  },
  {
   "cell_type": "code",
   "execution_count": 9,
   "metadata": {},
   "outputs": [],
   "source": [
    "# declaring the evaluation class\n",
    "checker = VolatilityEstimation(model, X, y, evaluators, 'delong')\n",
    "\n",
    "checker.estimate(0.4)"
   ]
  },
  {
   "cell_type": "code",
   "execution_count": 10,
   "metadata": {},
   "outputs": [
    {
     "name": "stdout",
     "output_type": "stream",
     "text": [
      "Mean of metric on train is 0.92\n",
      "Mean of metric on test is 0.71\n",
      "Mean of delta is 0.21\n",
      "Standard Deviation of metric on train is 0.00011\n",
      "Standard Deviation of metric on test is 0.00063\n",
      "Standard Deviation of delta is 0.0\n"
     ]
    }
   ],
   "source": [
    "checker.reporting('AUC')"
   ]
  },
  {
   "cell_type": "code",
   "execution_count": 11,
   "metadata": {},
   "outputs": [
    {
     "data": {
      "image/png": "[encoded data removed]",
      "text/plain": [
       "<Figure size 432x288 with 1 Axes>"
      ]
     },
     "metadata": {
      "needs_background": "light"
     },
     "output_type": "display_data"
    },
    {
     "data": {
      "image/png": "[encoded data removed]",
      "text/plain": [
       "<Figure size 432x288 with 1 Axes>"
      ]
     },
     "metadata": {
      "needs_background": "light"
     },
     "output_type": "display_data"
    }
   ],
   "source": [
    "checker.plot('AUC')"
   ]
  }
 ],
 "metadata": {
  "kernelspec": {
   "display_name": "ProbaPy",
   "language": "python",
   "name": "probapy"
  },
  "language_info": {
   "codemirror_mode": {
    "name": "ipython",
    "version": 3
   },
   "file_extension": ".py",
   "mimetype": "text/x-python",
   "name": "python",
   "nbconvert_exporter": "python",
   "pygments_lexer": "ipython3",
   "version": "3.6.9"
  }
 },
 "nbformat": 4,
 "nbformat_minor": 4
}
